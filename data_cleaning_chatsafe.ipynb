{
 "cells": [
  {
   "cell_type": "code",
   "execution_count": 3,
   "id": "1bb9a5f6-f21a-4846-9a69-011af2dec1ee",
   "metadata": {},
   "outputs": [
    {
     "data": {
      "text/plain": [
       "(7728394, 46)"
      ]
     },
     "execution_count": 3,
     "metadata": {},
     "output_type": "execute_result"
    }
   ],
   "source": [
    "import pandas as pd\n",
    "\n",
    "# Load Raw Dataset\n",
    "raw_dataset = pd.read_csv(\"US_Accidents.csv\")\n",
    "\n",
    "raw_dataset.shape"
   ]
  },
  {
   "cell_type": "code",
   "execution_count": 4,
   "id": "bb2dad54-8fad-425d-a9a6-3c4ea5275737",
   "metadata": {
    "tags": []
   },
   "outputs": [
    {
     "data": {
      "text/plain": [
       "Index(['ID', 'Source', 'Severity', 'Start_Time', 'End_Time', 'Start_Lat',\n",
       "       'Start_Lng', 'End_Lat', 'End_Lng', 'Distance(mi)', 'Description',\n",
       "       'Street', 'City', 'County', 'State', 'Zipcode', 'Country', 'Timezone',\n",
       "       'Airport_Code', 'Weather_Timestamp', 'Temperature(F)', 'Wind_Chill(F)',\n",
       "       'Humidity(%)', 'Pressure(in)', 'Visibility(mi)', 'Wind_Direction',\n",
       "       'Wind_Speed(mph)', 'Precipitation(in)', 'Weather_Condition', 'Amenity',\n",
       "       'Bump', 'Crossing', 'Give_Way', 'Junction', 'No_Exit', 'Railway',\n",
       "       'Roundabout', 'Station', 'Stop', 'Traffic_Calming', 'Traffic_Signal',\n",
       "       'Turning_Loop', 'Sunrise_Sunset', 'Civil_Twilight', 'Nautical_Twilight',\n",
       "       'Astronomical_Twilight'],\n",
       "      dtype='object')"
      ]
     },
     "execution_count": 4,
     "metadata": {},
     "output_type": "execute_result"
    }
   ],
   "source": [
    "raw_dataset.columns\n"
   ]
  },
  {
   "cell_type": "code",
   "execution_count": 7,
   "id": "bacc444b-ac80-48df-a6e8-7c6b8a3902b5",
   "metadata": {},
   "outputs": [
    {
     "data": {
      "text/plain": [
       "Index(['ID', 'Source', 'Severity', 'Start_Time', 'End_Time', 'Start_Lat',\n",
       "       'Start_Lng', 'End_Lat', 'End_Lng', 'Distance(mi)', 'Description',\n",
       "       'Street', 'City', 'County', 'State', 'Zipcode', 'Country', 'Timezone',\n",
       "       'Airport_Code', 'Weather_Timestamp', 'Temperature(F)', 'Wind_Chill(F)',\n",
       "       'Humidity(%)', 'Pressure(in)', 'Visibility(mi)', 'Wind_Direction',\n",
       "       'Wind_Speed(mph)', 'Precipitation(in)', 'Weather_Condition', 'Amenity',\n",
       "       'Bump', 'Crossing', 'Give_Way', 'Junction', 'No_Exit', 'Railway',\n",
       "       'Roundabout', 'Station', 'Stop', 'Traffic_Calming', 'Traffic_Signal',\n",
       "       'Turning_Loop', 'Sunrise_Sunset', 'Civil_Twilight', 'Nautical_Twilight',\n",
       "       'Astronomical_Twilight'],\n",
       "      dtype='object')"
      ]
     },
     "execution_count": 7,
     "metadata": {},
     "output_type": "execute_result"
    }
   ],
   "source": [
    "filtered_df = raw_dataset[raw_dataset['State'] == 'CA']\n",
    "del raw_dataset\n",
    "\n",
    "filtered_df.columns"
   ]
  },
  {
   "cell_type": "code",
   "execution_count": 8,
   "id": "c03e761a-57ab-436f-8571-1c8d91c95815",
   "metadata": {
    "tags": []
   },
   "outputs": [
    {
     "data": {
      "text/plain": [
       "(1741433, 18)"
      ]
     },
     "execution_count": 8,
     "metadata": {},
     "output_type": "execute_result"
    }
   ],
   "source": [
    "lst =['Source','Start_Lat',\n",
    "       'Start_Lng', 'End_Lat', 'End_Lng','Description', 'Airport_Code','Amenity',\n",
    "       'Bump', 'Crossing', 'Give_Way', 'Junction', 'No_Exit', 'Railway',\n",
    "       'Roundabout', 'Station', 'Stop', 'Traffic_Calming', 'Traffic_Signal',\n",
    "       'Turning_Loop', 'Sunrise_Sunset', 'Civil_Twilight', 'Nautical_Twilight',\n",
    "       'Astronomical_Twilight',\"ID\",\"Street\",\"Country\",\"Timezone\"]\n",
    "filtered_df = filtered_df.drop(lst, axis =1 )\n",
    "filtered_df.shape"
   ]
  },
  {
   "cell_type": "code",
   "execution_count": 9,
   "id": "93da9948-ce26-4a5f-a23b-801d90fe1735",
   "metadata": {
    "tags": []
   },
   "outputs": [
    {
     "data": {
      "text/plain": [
       "Index(['Severity', 'Start_Time', 'End_Time', 'Distance(mi)', 'City', 'County',\n",
       "       'State', 'Zipcode', 'Weather_Timestamp', 'Temperature(F)',\n",
       "       'Wind_Chill(F)', 'Humidity(%)', 'Pressure(in)', 'Visibility(mi)',\n",
       "       'Wind_Direction', 'Wind_Speed(mph)', 'Precipitation(in)',\n",
       "       'Weather_Condition'],\n",
       "      dtype='object')"
      ]
     },
     "execution_count": 9,
     "metadata": {},
     "output_type": "execute_result"
    }
   ],
   "source": [
    "filtered_df.columns"
   ]
  },
  {
   "cell_type": "code",
   "execution_count": 10,
   "id": "06fe3c8f-bd5f-4ada-a532-40743d7b9e08",
   "metadata": {
    "tags": []
   },
   "outputs": [
    {
     "data": {
      "text/plain": [
       "(1716004, 18)"
      ]
     },
     "execution_count": 10,
     "metadata": {},
     "output_type": "execute_result"
    }
   ],
   "source": [
    "filtered_df.drop_duplicates(inplace=True)\n",
    "filtered_df.shape"
   ]
  },
  {
   "cell_type": "code",
   "execution_count": 11,
   "id": "fa280c61-a027-4a41-8cb8-13c793892b78",
   "metadata": {
    "tags": []
   },
   "outputs": [
    {
     "data": {
      "text/plain": [
       "Severity                  0\n",
       "Start_Time                0\n",
       "End_Time                  0\n",
       "Distance(mi)              0\n",
       "City                     11\n",
       "County                    0\n",
       "State                     0\n",
       "Zipcode                 587\n",
       "Weather_Timestamp     31974\n",
       "Temperature(F)        44904\n",
       "Wind_Chill(F)        507376\n",
       "Humidity(%)           47239\n",
       "Pressure(in)          36246\n",
       "Visibility(mi)        39210\n",
       "Wind_Direction        45102\n",
       "Wind_Speed(mph)      161392\n",
       "Precipitation(in)    561182\n",
       "Weather_Condition     38853\n",
       "dtype: int64"
      ]
     },
     "execution_count": 11,
     "metadata": {},
     "output_type": "execute_result"
    }
   ],
   "source": [
    "filtered_df.isnull().sum()"
   ]
  },
  {
   "cell_type": "code",
   "execution_count": 12,
   "id": "3c6520c6-ec38-477c-98a4-ab46621ec98c",
   "metadata": {
    "tags": []
   },
   "outputs": [
    {
     "name": "stdout",
     "output_type": "stream",
     "text": [
      "Before dropping:\n",
      "Rows with 10 or more missing values: 31974\n",
      "Dropped 31974 rows.\n"
     ]
    }
   ],
   "source": [
    "# Count BEFORE dropping\n",
    "print(\"Before dropping:\")\n",
    "num_rows_with_10_or_more_nans = (filtered_df.isna().sum(axis=1) >= 10).sum()\n",
    "print(f\"Rows with 10 or more missing values: {num_rows_with_10_or_more_nans}\")\n",
    "\n",
    "# Drop rows\n",
    "before = filtered_df.shape[0]\n",
    "filtered_df = filtered_df[filtered_df.isna().sum(axis=1) < 10]\n",
    "after = filtered_df.shape[0]\n",
    "print(f\"Dropped {before - after} rows.\")\n",
    "\n"
   ]
  },
  {
   "cell_type": "code",
   "execution_count": 13,
   "id": "92635865-c59c-43be-b38f-377cb9743f7c",
   "metadata": {
    "tags": []
   },
   "outputs": [
    {
     "name": "stdout",
     "output_type": "stream",
     "text": [
      "Rows with 10 or more missing values: 0\n"
     ]
    }
   ],
   "source": [
    "num_rows_with_10_or_more_nans = (filtered_df.isna().sum(axis=1) >= 10).sum()\n",
    "print(f\"Rows with 10 or more missing values: {num_rows_with_10_or_more_nans}\")"
   ]
  },
  {
   "cell_type": "code",
   "execution_count": 15,
   "id": "d80e179e-cfd6-4fd7-99d1-8efb77229eca",
   "metadata": {
    "tags": []
   },
   "outputs": [
    {
     "data": {
      "text/plain": [
       "Severity                  0\n",
       "Start_Time                0\n",
       "End_Time                  0\n",
       "Distance(mi)              0\n",
       "City                     11\n",
       "County                    0\n",
       "State                     0\n",
       "Zipcode                   0\n",
       "Weather_Timestamp         0\n",
       "Temperature(F)        12930\n",
       "Wind_Chill(F)        475402\n",
       "Humidity(%)           15265\n",
       "Pressure(in)           4272\n",
       "Visibility(mi)         7236\n",
       "Wind_Direction        13128\n",
       "Wind_Speed(mph)      129418\n",
       "Precipitation(in)    529208\n",
       "Weather_Condition      6879\n",
       "dtype: int64"
      ]
     },
     "execution_count": 15,
     "metadata": {},
     "output_type": "execute_result"
    }
   ],
   "source": [
    "filtered_df.isnull().sum()"
   ]
  },
  {
   "cell_type": "code",
   "execution_count": 16,
   "id": "0c0c657d-1510-491e-9c5d-9ccb66903828",
   "metadata": {},
   "outputs": [
    {
     "data": {
      "text/plain": [
       "Severity               int64\n",
       "Start_Time            object\n",
       "End_Time              object\n",
       "Distance(mi)         float64\n",
       "City                  object\n",
       "County                object\n",
       "State                 object\n",
       "Zipcode               object\n",
       "Weather_Timestamp     object\n",
       "Temperature(F)       float64\n",
       "Wind_Chill(F)        float64\n",
       "Humidity(%)          float64\n",
       "Pressure(in)         float64\n",
       "Visibility(mi)       float64\n",
       "Wind_Direction        object\n",
       "Wind_Speed(mph)      float64\n",
       "Precipitation(in)    float64\n",
       "Weather_Condition     object\n",
       "dtype: object"
      ]
     },
     "execution_count": 16,
     "metadata": {},
     "output_type": "execute_result"
    }
   ],
   "source": [
    "filtered_df.dtypes"
   ]
  },
  {
   "cell_type": "code",
   "execution_count": 17,
   "id": "a00e3fc9-3804-48c2-8e2b-0a2f64c053b6",
   "metadata": {
    "collapsed": true,
    "jupyter": {
     "outputs_hidden": true
    },
    "tags": []
   },
   "outputs": [
    {
     "name": "stdout",
     "output_type": "stream",
     "text": [
      "Column: Temperature(F) \n",
      "     \n",
      "0.2896712318460672\n",
      "59.0\n",
      "Temperature(F)\n",
      "59.0    59228\n",
      "57.0    53726\n",
      "63.0    53621\n",
      "61.0    52234\n",
      "64.0    50815\n",
      "Name: count, dtype: int64\n",
      "570\n",
      "Column: Wind_Chill(F) \n",
      "     \n",
      "0.14002762101183525\n",
      "57.0\n",
      "Wind_Chill(F)\n",
      "57.0    42273\n",
      "63.0    40823\n",
      "59.0    40301\n",
      "61.0    39186\n",
      "54.0    38768\n",
      "Name: count, dtype: int64\n",
      "402\n",
      "Column: Humidity(%) \n",
      "     \n",
      "-0.27247714219861524\n",
      "93.0\n",
      "Humidity(%)\n",
      "93.0     45795\n",
      "100.0    45098\n",
      "83.0     34859\n",
      "72.0     33146\n",
      "78.0     32415\n",
      "Name: count, dtype: int64\n",
      "100\n",
      "Column: Pressure(in) \n",
      "     \n",
      "-3.89595011778934\n",
      "29.91\n",
      "Pressure(in)\n",
      "29.91    36632\n",
      "29.94    35999\n",
      "29.88    35700\n",
      "29.96    35507\n",
      "29.90    33619\n",
      "Name: count, dtype: int64\n",
      "834\n",
      "Column: Visibility(mi) \n",
      "     \n",
      "4.889722636817508\n",
      "10.0\n",
      "Visibility(mi)\n",
      "10.0    1308974\n",
      "9.0       61957\n",
      "7.0       58321\n",
      "8.0       51261\n",
      "6.0       40813\n",
      "Name: count, dtype: int64\n",
      "63\n",
      "Column: Wind_Speed(mph) \n",
      "     \n",
      "23.30945001852785\n",
      "0.0\n",
      "Wind_Speed(mph)\n",
      "0.0    315355\n",
      "3.0    141590\n",
      "5.0    126715\n",
      "6.0    109110\n",
      "7.0     94551\n",
      "Name: count, dtype: int64\n",
      "121\n",
      "Column: Precipitation(in) \n",
      "     \n",
      "282.72122634286234\n",
      "0.0\n",
      "Precipitation(in)\n",
      "0.00    1084298\n",
      "0.01      17357\n",
      "0.02       9444\n",
      "0.03       6628\n",
      "0.04       5386\n",
      "Name: count, dtype: int64\n",
      "91\n"
     ]
    }
   ],
   "source": [
    "columns_with_missing = [\n",
    "    \"Temperature(F)\",\n",
    "    \"Wind_Chill(F)\",\n",
    "    \"Humidity(%)\",\n",
    "    \"Pressure(in)\",\n",
    "    \"Visibility(mi)\",\n",
    "    \"Wind_Speed(mph)\",\n",
    "    \"Precipitation(in)\"\n",
    "]\n",
    "\n",
    "for column in  columns_with_missing:\n",
    "    print(f\"Column: {column} \\n     \")\n",
    "    print(filtered_df[column].skew())\n",
    "    print(filtered_df[column].mode()[0])\n",
    "    print(filtered_df[column].value_counts().head(5))\n",
    "    print(filtered_df[column].nunique())\n",
    "\n",
    "\n"
   ]
  },
  {
   "cell_type": "code",
   "execution_count": 18,
   "id": "40aa3129-72f4-4d39-8926-22dc7a4234bc",
   "metadata": {
    "tags": []
   },
   "outputs": [],
   "source": [
    "# Filling NaN categorical data\n",
    "filtered_df[\"City\"].fillna(filtered_df[\"City\"].mode()[0],inplace = True)\n",
    "filtered_df[\"Weather_Condition\"].fillna(filtered_df[\"Weather_Condition\"].mode()[0],inplace = True)\n",
    "filtered_df[\"Wind_Direction\"].fillna(filtered_df[\"Wind_Direction\"].mode()[0],inplace = True)\n",
    "\n",
    "\n",
    "# Filling Nan Numerical Data\n",
    "filtered_df[\"Temperature(F)\"].fillna(filtered_df[\"Temperature(F)\"].median(),inplace = True)\n",
    "filtered_df[\"Wind_Chill(F)\"].fillna(filtered_df[\"Wind_Chill(F)\"].mean(),inplace = True)\n",
    "filtered_df[\"Humidity(%)\"].fillna(filtered_df[\"Humidity(%)\"].median(),inplace = True)\n",
    "filtered_df[\"Pressure(in)\"].fillna(filtered_df[\"Pressure(in)\"].median(),inplace = True)\n",
    "filtered_df[\"Wind_Speed(mph)\"].fillna(filtered_df[\"Wind_Speed(mph)\"].median(),inplace = True)\n",
    "filtered_df[\"Visibility(mi)\"].fillna(filtered_df[\"Visibility(mi)\"].mode()[0],inplace = True)\n",
    "filtered_df[\"Precipitation(in)\"].fillna(filtered_df[\"Precipitation(in)\"].mode()[0],inplace = True)\n",
    "\n",
    "\n",
    "filtered_df[\"Zipcode\"] = filtered_df[\"Zipcode\"].astype(str).str[:5]\n",
    "filtered_df[\"Zipcode\"] = filtered_df[\"Zipcode\"].astype(int)\n"
   ]
  },
  {
   "cell_type": "code",
   "execution_count": 20,
   "id": "36472af7-487b-4c61-a804-72f244e3bd31",
   "metadata": {
    "collapsed": true,
    "jupyter": {
     "outputs_hidden": true
    },
    "tags": []
   },
   "outputs": [
    {
     "data": {
      "text/plain": [
       "Severity             0\n",
       "Start_Time           0\n",
       "End_Time             0\n",
       "Distance(mi)         0\n",
       "City                 0\n",
       "County               0\n",
       "State                0\n",
       "Zipcode              0\n",
       "Weather_Timestamp    0\n",
       "Temperature(F)       0\n",
       "Wind_Chill(F)        0\n",
       "Humidity(%)          0\n",
       "Pressure(in)         0\n",
       "Visibility(mi)       0\n",
       "Wind_Direction       0\n",
       "Wind_Speed(mph)      0\n",
       "Precipitation(in)    0\n",
       "Weather_Condition    0\n",
       "dtype: int64"
      ]
     },
     "execution_count": 20,
     "metadata": {},
     "output_type": "execute_result"
    }
   ],
   "source": [
    "filtered_df.isnull().sum()"
   ]
  },
  {
   "cell_type": "code",
   "execution_count": 21,
   "id": "77349e9f-f549-440b-a6c1-106fbc2ba35c",
   "metadata": {
    "collapsed": true,
    "jupyter": {
     "outputs_hidden": true
    },
    "tags": []
   },
   "outputs": [
    {
     "data": {
      "text/plain": [
       "Severity               int64\n",
       "Start_Time            object\n",
       "End_Time              object\n",
       "Distance(mi)         float64\n",
       "City                  object\n",
       "County                object\n",
       "State                 object\n",
       "Zipcode                int64\n",
       "Weather_Timestamp     object\n",
       "Temperature(F)       float64\n",
       "Wind_Chill(F)        float64\n",
       "Humidity(%)          float64\n",
       "Pressure(in)         float64\n",
       "Visibility(mi)       float64\n",
       "Wind_Direction        object\n",
       "Wind_Speed(mph)      float64\n",
       "Precipitation(in)    float64\n",
       "Weather_Condition     object\n",
       "dtype: object"
      ]
     },
     "execution_count": 21,
     "metadata": {},
     "output_type": "execute_result"
    }
   ],
   "source": [
    "filtered_df.dtypes"
   ]
  },
  {
   "cell_type": "code",
   "execution_count": 258,
   "id": "64b71fe2-9794-45ba-abbb-3550176f73e3",
   "metadata": {
    "collapsed": true,
    "jupyter": {
     "outputs_hidden": true
    },
    "tags": []
   },
   "outputs": [
    {
     "data": {
      "text/plain": [
       "Severity               int64\n",
       "Start_Time            object\n",
       "End_Time              object\n",
       "Distance(mi)         float64\n",
       "City                  object\n",
       "County                object\n",
       "State                 object\n",
       "Zipcode                int64\n",
       "Weather_Timestamp     object\n",
       "Temperature(F)       float64\n",
       "Wind_Chill(F)        float64\n",
       "Humidity(%)          float64\n",
       "Pressure(in)         float64\n",
       "Visibility(mi)       float64\n",
       "Wind_Direction        object\n",
       "Wind_Speed(mph)      float64\n",
       "Precipitation(in)    float64\n",
       "Weather_Condition     object\n",
       "dtype: object"
      ]
     },
     "execution_count": 258,
     "metadata": {},
     "output_type": "execute_result"
    }
   ],
   "source": [
    "filtered_df.dtypes"
   ]
  },
  {
   "cell_type": "code",
   "execution_count": 22,
   "id": "7b026953-5d05-41f7-b6cf-cc83f950136a",
   "metadata": {
    "tags": []
   },
   "outputs": [],
   "source": [
    "list = [\"Weather_Timestamp\",\"State\"]\n",
    "filtered_df = filtered_df.drop(list, axis =1 )\n"
   ]
  },
  {
   "cell_type": "code",
   "execution_count": 23,
   "id": "cd04c94d-b1ca-4370-b3b5-cf1fefa77322",
   "metadata": {
    "tags": []
   },
   "outputs": [
    {
     "data": {
      "text/plain": [
       "Severity               int64\n",
       "Start_Time            object\n",
       "End_Time              object\n",
       "Distance(mi)         float64\n",
       "City                  object\n",
       "County                object\n",
       "Zipcode                int64\n",
       "Temperature(F)       float64\n",
       "Wind_Chill(F)        float64\n",
       "Humidity(%)          float64\n",
       "Pressure(in)         float64\n",
       "Visibility(mi)       float64\n",
       "Wind_Direction        object\n",
       "Wind_Speed(mph)      float64\n",
       "Precipitation(in)    float64\n",
       "Weather_Condition     object\n",
       "dtype: object"
      ]
     },
     "execution_count": 23,
     "metadata": {},
     "output_type": "execute_result"
    }
   ],
   "source": [
    "filtered_df.dtypes"
   ]
  },
  {
   "cell_type": "code",
   "execution_count": 36,
   "id": "6155a4ba-3fd1-4d60-8301-da47859a3af6",
   "metadata": {
    "tags": []
   },
   "outputs": [
    {
     "data": {
      "text/plain": [
       "1652"
      ]
     },
     "execution_count": 36,
     "metadata": {},
     "output_type": "execute_result"
    }
   ],
   "source": [
    "filtered_df[\"Zipcode\"].nunique()"
   ]
  },
  {
   "cell_type": "code",
   "execution_count": 33,
   "id": "a9930524-1734-4299-a331-57dd677a63a9",
   "metadata": {
    "tags": []
   },
   "outputs": [],
   "source": [
    "(filtered_df[\"City\"].value_counts()<450).sum()\n",
    "\n",
    "# Step 1: Get frequency of each city\n",
    "city_counts = filtered_df['City'].value_counts()\n",
    "\n",
    "# Step 2: Define a threshold (e.g., keep only cities with >= 100 incidents)\n",
    "threshold = 450\n",
    "common_cities = city_counts[city_counts >= threshold].index\n",
    "\n",
    "# Step 3: Replace rare cities with \"Other\"\n",
    "filtered_df['City'] = filtered_df['City'].apply(lambda x: x if x in common_cities else 'Other')\n"
   ]
  },
  {
   "cell_type": "code",
   "execution_count": 45,
   "id": "edb21e47-f166-48c9-ae8a-e770d7e89d39",
   "metadata": {
    "tags": []
   },
   "outputs": [
    {
     "data": {
      "text/plain": [
       "58"
      ]
     },
     "execution_count": 45,
     "metadata": {},
     "output_type": "execute_result"
    }
   ],
   "source": [
    "filtered_df['Zipcode_Group'] = filtered_df['Zipcode'].astype(str).str[:3]\n",
    "\n",
    "filtered_df[\"Zipcode_Group\"].nunique()"
   ]
  },
  {
   "cell_type": "code",
   "execution_count": 46,
   "id": "01aabc2c-643f-4ceb-901b-44ab060c13b8",
   "metadata": {
    "tags": []
   },
   "outputs": [
    {
     "data": {
      "text/plain": [
       "(1684030, 715)"
      ]
     },
     "execution_count": 46,
     "metadata": {},
     "output_type": "execute_result"
    }
   ],
   "source": [
    "filtered_df = pd.get_dummies(filtered_df, columns=['City',\"County\",'Wind_Direction',\"Weather_Condition\",\"Zipcode_Group\"])\n",
    "filtered_df.shape"
   ]
  },
  {
   "cell_type": "code",
   "execution_count": 47,
   "id": "6566d7d2-a5eb-407a-9003-a8ae85c842fb",
   "metadata": {
    "tags": []
   },
   "outputs": [
    {
     "name": "stdout",
     "output_type": "stream",
     "text": [
      "Severity               int64\n",
      "Start_Time            object\n",
      "End_Time              object\n",
      "Distance(mi)         float64\n",
      "Zipcode                int64\n",
      "Temperature(F)       float64\n",
      "Wind_Chill(F)        float64\n",
      "Humidity(%)          float64\n",
      "Pressure(in)         float64\n",
      "Visibility(mi)       float64\n",
      "Wind_Speed(mph)      float64\n",
      "Precipitation(in)    float64\n",
      "Number of columns (excluding bool): 12\n"
     ]
    }
   ],
   "source": [
    "print(filtered_df.select_dtypes(exclude='bool').dtypes.to_string())\n",
    "num_non_bool_cols = filtered_df.select_dtypes(exclude='bool').shape[1]\n",
    "print(f\"Number of columns (excluding bool): {num_non_bool_cols}\")\n",
    "\n"
   ]
  },
  {
   "cell_type": "code",
   "execution_count": 48,
   "id": "5a9232d1-166e-4c46-9d4d-30811cfe7f8f",
   "metadata": {
    "tags": []
   },
   "outputs": [],
   "source": [
    "filtered_df[\"Start_Time\"] = pd.to_datetime(filtered_df[\"Start_Time\"], errors='coerce')\n",
    "filtered_df[\"End_Time\"] = pd.to_datetime(filtered_df[\"End_Time\"], errors='coerce')"
   ]
  },
  {
   "cell_type": "code",
   "execution_count": 49,
   "id": "72a2fb8e-7947-421c-b96b-cc2aaec6665c",
   "metadata": {},
   "outputs": [],
   "source": [
    "filtered_df[\"Date\"] = pd.to_datetime(filtered_df[\"Start_Time\"].dt.date)\n",
    "filtered_df[\"day_of_week\"] = filtered_df[\"Start_Time\"].dt.dayofweek\n",
    "filtered_df[\"Hour\"] = filtered_df[\"Start_Time\"].dt.hour\n",
    "filtered_df[\"Minute\"] = filtered_df[\"Start_Time\"].dt.minute\n",
    "filtered_df[\"Duration_minutes\"] = (filtered_df[\"End_Time\"] - filtered_df[\"Start_Time\"]).dt.total_seconds() / 60\n",
    "\n",
    "\n"
   ]
  },
  {
   "cell_type": "code",
   "execution_count": 50,
   "id": "22111945-fac7-4ae0-868a-da33f45c2094",
   "metadata": {
    "tags": []
   },
   "outputs": [
    {
     "name": "stdout",
     "output_type": "stream",
     "text": [
      "Severity                      int64\n",
      "Start_Time           datetime64[ns]\n",
      "End_Time             datetime64[ns]\n",
      "Distance(mi)                float64\n",
      "Zipcode                       int64\n",
      "Temperature(F)              float64\n",
      "Wind_Chill(F)               float64\n",
      "Humidity(%)                 float64\n",
      "Pressure(in)                float64\n",
      "Visibility(mi)              float64\n",
      "Wind_Speed(mph)             float64\n",
      "Precipitation(in)           float64\n",
      "Date                 datetime64[ns]\n",
      "day_of_week                 float64\n",
      "Hour                        float64\n",
      "Minute                      float64\n",
      "Duration_minutes            float64\n",
      "Number of columns (excluding bool): 17\n"
     ]
    }
   ],
   "source": [
    "print(filtered_df.select_dtypes(exclude='bool').dtypes.to_string())\n",
    "num_non_bool_cols = filtered_df.select_dtypes(exclude='bool').shape[1]\n",
    "print(f\"Number of columns (excluding bool): {num_non_bool_cols}\")"
   ]
  },
  {
   "cell_type": "code",
   "execution_count": 51,
   "id": "03507c35-76a5-44f1-8146-bcdd13072596",
   "metadata": {
    "tags": []
   },
   "outputs": [
    {
     "data": {
      "text/plain": [
       "Severity                 0\n",
       "Start_Time          169924\n",
       "End_Time            169924\n",
       "Distance(mi)             0\n",
       "Zipcode                  0\n",
       "                     ...  \n",
       "Date                169924\n",
       "day_of_week         169924\n",
       "Hour                169924\n",
       "Minute              169924\n",
       "Duration_minutes    169924\n",
       "Length: 720, dtype: int64"
      ]
     },
     "execution_count": 51,
     "metadata": {},
     "output_type": "execute_result"
    }
   ],
   "source": [
    "filtered_df.isnull().sum()"
   ]
  },
  {
   "cell_type": "code",
   "execution_count": 52,
   "id": "5509517a-aae1-4ce7-8660-f2e3d04248f2",
   "metadata": {
    "tags": []
   },
   "outputs": [],
   "source": [
    "filtered_df[\"Month\"] = filtered_df[\"Date\"].dt.month\n",
    "filtered_df = filtered_df.dropna()\n",
    "\n",
    "filtered_df[\"Hour\"] = filtered_df[\"Hour\"].astype(int)"
   ]
  },
  {
   "cell_type": "code",
   "execution_count": 53,
   "id": "2689f646-19f2-46a3-92c2-1a3418afaddb",
   "metadata": {
    "tags": []
   },
   "outputs": [],
   "source": [
    "filtered_df.drop(\"Start_Time\",axis =1, inplace =True)\n",
    "filtered_df.drop(\"End_Time\",axis =1, inplace =True)\n"
   ]
  },
  {
   "cell_type": "code",
   "execution_count": 54,
   "id": "c584e1fd-4bef-4fbb-9042-38dcc4432014",
   "metadata": {
    "tags": []
   },
   "outputs": [],
   "source": [
    "import holidays\n",
    "us_holidays = holidays.US()\n",
    "\n",
    "# Create a new boolean column: 1 if holiday, else 0\n",
    "filtered_df['Is_Holiday'] = filtered_df['Date'].apply(lambda date: 1 if date in us_holidays else 0)\n",
    "\n"
   ]
  },
  {
   "cell_type": "code",
   "execution_count": 55,
   "id": "3dc652d1-b711-4fb8-a3d3-f667b3356d06",
   "metadata": {
    "tags": []
   },
   "outputs": [
    {
     "data": {
      "text/plain": [
       "24"
      ]
     },
     "execution_count": 55,
     "metadata": {},
     "output_type": "execute_result"
    }
   ],
   "source": [
    "filtered_df['Hour'].nunique()"
   ]
  },
  {
   "cell_type": "code",
   "execution_count": 56,
   "id": "1a16fdb5-54bb-469d-a083-1d061107c1a6",
   "metadata": {
    "tags": []
   },
   "outputs": [],
   "source": [
    "filtered_df['Is_Rush_Hour'] = filtered_df['Hour'].apply(lambda hour: 1 if (7<=hour<=9) or (16<=hour<=19) else 0)\n",
    "\n"
   ]
  },
  {
   "cell_type": "code",
   "execution_count": 63,
   "id": "e14942f3-dbeb-4fbc-89a6-6c7cbe44729e",
   "metadata": {
    "tags": []
   },
   "outputs": [],
   "source": [
    "filtered_df['Is_Rush_Hour'].value_counts()\n",
    "pd.set_option('display.max_rows', 20)  # Show all rows\n",
    "pd.set_option('display.max_columns', None)  # Show all columns"
   ]
  },
  {
   "cell_type": "code",
   "execution_count": 64,
   "id": "636e6c98-2b12-45c6-9fbc-86115378f84d",
   "metadata": {
    "tags": []
   },
   "outputs": [
    {
     "data": {
      "text/plain": [
       "Severity            0\n",
       "Distance(mi)        0\n",
       "Zipcode             0\n",
       "Temperature(F)      0\n",
       "Wind_Chill(F)       0\n",
       "                   ..\n",
       "Minute              0\n",
       "Duration_minutes    0\n",
       "Month               0\n",
       "Is_Holiday          0\n",
       "Is_Rush_Hour        0\n",
       "Length: 721, dtype: int64"
      ]
     },
     "execution_count": 64,
     "metadata": {},
     "output_type": "execute_result"
    }
   ],
   "source": [
    "filtered_df.isnull().sum()"
   ]
  },
  {
   "cell_type": "code",
   "execution_count": 66,
   "id": "d2d920e9-6bb7-44d2-bce3-589244b5151e",
   "metadata": {
    "tags": []
   },
   "outputs": [],
   "source": [
    "import pandas as pd\n",
    "import matplotlib.pyplot as plt\n",
    "import seaborn as sns\n",
    "from sklearn.preprocessing import StandardScaler\n"
   ]
  },
  {
   "cell_type": "code",
   "execution_count": 68,
   "id": "11c6de40-8ff3-4b94-9f64-788c5a61a322",
   "metadata": {
    "collapsed": true,
    "jupyter": {
     "outputs_hidden": true
    },
    "tags": []
   },
   "outputs": [
    {
     "data": {
      "image/png": "[encoded data removed]",
      "text/plain": [
       "<Figure size 800x400 with 1 Axes>"
      ]
     },
     "metadata": {},
     "output_type": "display_data"
    },
    {
     "data": {
      "image/png": "[encoded data removed]",
      "text/plain": [
       "<Figure size 800x400 with 1 Axes>"
      ]
     },
     "metadata": {},
     "output_type": "display_data"
    },
    {
     "data": {
      "image/png": "[encoded data removed]",
      "text/plain": [
       "<Figure size 800x400 with 1 Axes>"
      ]
     },
     "metadata": {},
     "output_type": "display_data"
    },
    {
     "data": {
      "image/png": "[encoded data removed]",
      "text/plain": [
       "<Figure size 800x400 with 1 Axes>"
      ]
     },
     "metadata": {},
     "output_type": "display_data"
    },
    {
     "data": {
      "image/png": "[encoded data removed]",
      "text/plain": [
       "<Figure size 800x400 with 1 Axes>"
      ]
     },
     "metadata": {},
     "output_type": "display_data"
    },
    {
     "data": {
      "image/png": "[encoded data removed]",
      "text/plain": [
       "<Figure size 800x400 with 1 Axes>"
      ]
     },
     "metadata": {},
     "output_type": "display_data"
    },
    {
     "data": {
      "image/png": "[encoded data removed]",
      "text/plain": [
       "<Figure size 800x400 with 1 Axes>"
      ]
     },
     "metadata": {},
     "output_type": "display_data"
    },
    {
     "data": {
      "image/png": "[encoded data removed]",
      "text/plain": [
       "<Figure size 800x400 with 1 Axes>"
      ]
     },
     "metadata": {},
     "output_type": "display_data"
    },
    {
     "data": {
      "image/png": "[encoded data removed]",
      "text/plain": [
       "<Figure size 800x400 with 1 Axes>"
      ]
     },
     "metadata": {},
     "output_type": "display_data"
    },
    {
     "data": {
      "image/png": "[encoded data removed]",
      "text/plain": [
       "<Figure size 800x400 with 1 Axes>"
      ]
     },
     "metadata": {},
     "output_type": "display_data"
    },
    {
     "data": {
      "image/png": "[encoded data removed]",
      "text/plain": [
       "<Figure size 800x400 with 1 Axes>"
      ]
     },
     "metadata": {},
     "output_type": "display_data"
    },
    {
     "data": {
      "image/png": "[encoded data removed]",
      "text/plain": [
       "<Figure size 800x400 with 1 Axes>"
      ]
     },
     "metadata": {},
     "output_type": "display_data"
    },
    {
     "data": {
      "image/png": "[encoded data removed]",
      "text/plain": [
       "<Figure size 800x400 with 1 Axes>"
      ]
     },
     "metadata": {},
     "output_type": "display_data"
    },
    {
     "data": {
      "image/png": "[encoded data removed]",
      "text/plain": [
       "<Figure size 800x400 with 1 Axes>"
      ]
     },
     "metadata": {},
     "output_type": "display_data"
    },
    {
     "data": {
      "image/png": "[encoded data removed]",
      "text/plain": [
       "<Figure size 800x400 with 1 Axes>"
      ]
     },
     "metadata": {},
     "output_type": "display_data"
    }
   ],
   "source": [
    "numeric_cols = ['Severity', 'Distance(mi)',\n",
    "       'Temperature(F)', 'Wind_Chill(F)', 'Humidity(%)', 'Pressure(in)',\n",
    "       'Visibility(mi)', 'Wind_Speed(mph)',\n",
    "       'Precipitation(in)', 'Hour',\n",
    "       'Minute', 'Duration_minutes', 'Month', 'Is_Holiday', 'Is_Rush_Hour']  # example\n",
    "for col in numeric_cols:\n",
    "    plt.figure(figsize=(8, 4))\n",
    "    sns.boxplot(x=filtered_df[col])\n",
    "    plt.title(f\"Boxplot of {col}\")\n",
    "    plt.show()\n"
   ]
  },
  {
   "cell_type": "code",
   "execution_count": 217,
   "id": "715e1bc2-2f33-48d0-8080-9531810c2974",
   "metadata": {
    "tags": []
   },
   "outputs": [
    {
     "data": {
      "text/plain": [
       "Index(['Severity', 'Distance(mi)', 'City', 'County', 'Zipcode',\n",
       "       'Temperature(F)', 'Wind_Chill(F)', 'Humidity(%)', 'Pressure(in)',\n",
       "       'Visibility(mi)', 'Wind_Direction', 'Wind_Speed(mph)',\n",
       "       'Precipitation(in)', 'Weather_Condition', 'Date', 'day_of_week', 'Hour',\n",
       "       'Minute', 'Duration_minutes', 'Month', 'Is_Holiday', 'Is_Rush_Hour'],\n",
       "      dtype='object')"
      ]
     },
     "execution_count": 217,
     "metadata": {},
     "output_type": "execute_result"
    }
   ],
   "source": [
    "filtered_df.columns"
   ]
  },
  {
   "cell_type": "code",
   "execution_count": 233,
   "id": "cce33c71-3651-489e-9964-f1bc5f835d43",
   "metadata": {
    "tags": []
   },
   "outputs": [
    {
     "data": {
      "text/plain": [
       "0"
      ]
     },
     "execution_count": 233,
     "metadata": {},
     "output_type": "execute_result"
    }
   ],
   "source": [
    "filtered_df = filtered_df[filtered_df['Wind_Chill(F)'] < 200]\n",
    "(filtered_df[\"Wind_Chill(F)\"]>200).sum()"
   ]
  },
  {
   "cell_type": "code",
   "execution_count": 70,
   "id": "26085347-bd77-4ee0-b501-970f5c42c2ae",
   "metadata": {
    "tags": []
   },
   "outputs": [
    {
     "data": {
      "text/plain": [
       "Severity                                                   int64\n",
       "Distance(mi)                                             float64\n",
       "Zipcode                                                    int64\n",
       "Temperature(F)                                           float64\n",
       "Wind_Chill(F)                                            float64\n",
       "Humidity(%)                                              float64\n",
       "Pressure(in)                                             float64\n",
       "Visibility(mi)                                           float64\n",
       "Wind_Speed(mph)                                          float64\n",
       "Precipitation(in)                                        float64\n",
       "City_Acampo                                                 bool\n",
       "City_Acton                                                  bool\n",
       "City_Agoura Hills                                           bool\n",
       "City_Alamo                                                  bool\n",
       "City_Alhambra                                               bool\n",
       "City_Alta                                                   bool\n",
       "City_American Canyon                                        bool\n",
       "City_Anaheim                                                bool\n",
       "City_Anderson                                               bool\n",
       "City_Antelope                                               bool\n",
       "City_Antioch                                                bool\n",
       "City_Apple Valley                                           bool\n",
       "City_Aptos                                                  bool\n",
       "City_Arcadia                                                bool\n",
       "City_Arcata                                                 bool\n",
       "City_Aromas                                                 bool\n",
       "City_Arroyo Grande                                          bool\n",
       "City_Artesia                                                bool\n",
       "City_Arvin                                                  bool\n",
       "City_Atascadero                                             bool\n",
       "City_Atwater                                                bool\n",
       "City_Auburn                                                 bool\n",
       "City_Azusa                                                  bool\n",
       "City_Bakersfield                                            bool\n",
       "City_Baldwin Park                                           bool\n",
       "City_Barstow                                                bool\n",
       "City_Bay Point                                              bool\n",
       "City_Bell Gardens                                           bool\n",
       "City_Bellflower                                             bool\n",
       "City_Belmont                                                bool\n",
       "City_Benicia                                                bool\n",
       "City_Berkeley                                               bool\n",
       "City_Big Sur                                                bool\n",
       "City_Bishop                                                 bool\n",
       "City_Bloomington                                            bool\n",
       "City_Blythe                                                 bool\n",
       "City_Bonsall                                                bool\n",
       "City_Boulder Creek                                          bool\n",
       "City_Brea                                                   bool\n",
       "City_Brentwood                                              bool\n",
       "City_Brisbane                                               bool\n",
       "City_Buena Park                                             bool\n",
       "City_Burbank                                                bool\n",
       "City_Burlingame                                             bool\n",
       "City_Buttonwillow                                           bool\n",
       "City_Byron                                                  bool\n",
       "City_Calabasas                                              bool\n",
       "City_Calistoga                                              bool\n",
       "City_Camarillo                                              bool\n",
       "City_Camp Pendleton                                         bool\n",
       "City_Campbell                                               bool\n",
       "City_Canyon Country                                         bool\n",
       "City_Capitola                                               bool\n",
       "City_Cardiff By the Sea                                     bool\n",
       "City_Carlsbad                                               bool\n",
       "City_Carmel                                                 bool\n",
       "City_Carmichael                                             bool\n",
       "City_Carpinteria                                            bool\n",
       "City_Carson                                                 bool\n",
       "City_Castaic                                                bool\n",
       "City_Castro Valley                                          bool\n",
       "City_Castroville                                            bool\n",
       "City_Ceres                                                  bool\n",
       "City_Cerritos                                               bool\n",
       "City_Chatsworth                                             bool\n",
       "City_Chico                                                  bool\n",
       "City_Chino                                                  bool\n",
       "City_Chino Hills                                            bool\n",
       "City_Chowchilla                                             bool\n",
       "City_Chula Vista                                            bool\n",
       "City_Citrus Heights                                         bool\n",
       "City_City Of Industry                                       bool\n",
       "City_Claremont                                              bool\n",
       "City_Clearlake Oaks                                         bool\n",
       "City_Cloverdale                                             bool\n",
       "City_Clovis                                                 bool\n",
       "City_Coalinga                                               bool\n",
       "City_Coarsegold                                             bool\n",
       "City_Colfax                                                 bool\n",
       "City_Colton                                                 bool\n",
       "City_Commerce                                               bool\n",
       "City_Compton                                                bool\n",
       "City_Concord                                                bool\n",
       "City_Corning                                                bool\n",
       "City_Corona                                                 bool\n",
       "City_Corte Madera                                           bool\n",
       "City_Costa Mesa                                             bool\n",
       "City_Cotati                                                 bool\n",
       "City_Cottonwood                                             bool\n",
       "City_Covina                                                 bool\n",
       "City_Crescent City                                          bool\n",
       "City_Crestline                                              bool\n",
       "City_Crockett                                               bool\n",
       "City_Culver City                                            bool\n",
       "City_Cupertino                                              bool\n",
       "City_Daly City                                              bool\n",
       "City_Danville                                               bool\n",
       "City_Davis                                                  bool\n",
       "City_Del Mar                                                bool\n",
       "City_Delano                                                 bool\n",
       "City_Delhi                                                  bool\n",
       "City_Diamond Bar                                            bool\n",
       "City_Dinuba                                                 bool\n",
       "City_Discovery Bay                                          bool\n",
       "City_Dixon                                                  bool\n",
       "City_Dos Palos                                              bool\n",
       "City_Downey                                                 bool\n",
       "City_Duarte                                                 bool\n",
       "City_Dublin                                                 bool\n",
       "City_Earlimart                                              bool\n",
       "City_El Cajon                                               bool\n",
       "City_El Dorado Hills                                        bool\n",
       "City_El Monte                                               bool\n",
       "City_El Segundo                                             bool\n",
       "City_El Sobrante                                            bool\n",
       "City_Elk Grove                                              bool\n",
       "City_Emeryville                                             bool\n",
       "City_Encinitas                                              bool\n",
       "City_Encino                                                 bool\n",
       "City_Escalon                                                bool\n",
       "City_Escondido                                              bool\n",
       "City_Eureka                                                 bool\n",
       "City_Exeter                                                 bool\n",
       "City_Fair Oaks                                              bool\n",
       "City_Fairfield                                              bool\n",
       "City_Fallbrook                                              bool\n",
       "City_Felton                                                 bool\n",
       "City_Fillmore                                               bool\n",
       "City_Firebaugh                                              bool\n",
       "City_Floriston                                              bool\n",
       "City_Folsom                                                 bool\n",
       "City_Fontana                                                bool\n",
       "City_Forestville                                            bool\n",
       "City_Fort Bragg                                             bool\n",
       "City_Fountain Valley                                        bool\n",
       "City_Fowler                                                 bool\n",
       "City_Fremont                                                bool\n",
       "City_French Camp                                            bool\n",
       "City_Fresno                                                 bool\n",
       "City_Fullerton                                              bool\n",
       "City_Galt                                                   bool\n",
       "City_Garden Grove                                           bool\n",
       "City_Gardena                                                bool\n",
       "City_Gilroy                                                 bool\n",
       "City_Glendale                                               bool\n",
       "City_Glendora                                               bool\n",
       "City_Goleta                                                 bool\n",
       "City_Gonzales                                               bool\n",
       "City_Granada Hills                                          bool\n",
       "City_Grand Terrace                                          bool\n",
       "City_Granite Bay                                            bool\n",
       "City_Grass Valley                                           bool\n",
       "City_Greenbrae                                              bool\n",
       "City_Guerneville                                            bool\n",
       "City_Gustine                                                bool\n",
       "City_Hacienda Heights                                       bool\n",
       "City_Half Moon Bay                                          bool\n",
       "City_Hanford                                                bool\n",
       "City_Harbor City                                            bool\n",
       "City_Hawthorne                                              bool\n",
       "City_Hayward                                                bool\n",
       "City_Healdsburg                                             bool\n",
       "City_Hemet                                                  bool\n",
       "City_Hercules                                               bool\n",
       "City_Hesperia                                               bool\n",
       "City_Highland                                               bool\n",
       "City_Hilmar                                                 bool\n",
       "City_Hollister                                              bool\n",
       "City_Homeland                                               bool\n",
       "City_Hopland                                                bool\n",
       "City_Huntington Beach                                       bool\n",
       "City_Huntington Park                                        bool\n",
       "City_Huron                                                  bool\n",
       "City_Inglewood                                              bool\n",
       "City_Ione                                                   bool\n",
       "City_Irvine                                                 bool\n",
       "City_Isleton                                                bool\n",
       "City_Jackson                                                bool\n",
       "City_Jamestown                                              bool\n",
       "City_Jurupa Valley                                          bool\n",
       "City_Kelseyville                                            bool\n",
       "City_Kerman                                                 bool\n",
       "City_Kettleman City                                         bool\n",
       "City_King City                                              bool\n",
       "City_Kingsburg                                              bool\n",
       "City_La Crescenta                                           bool\n",
       "City_La Jolla                                               bool\n",
       "City_La Mesa                                                bool\n",
       "City_La Mirada                                              bool\n",
       "City_La Palma                                               bool\n",
       "City_La Puente                                              bool\n",
       "City_La Verne                                               bool\n",
       "City_Ladera Ranch                                           bool\n",
       "City_Lafayette                                              bool\n",
       "City_Laguna Hills                                           bool\n",
       "City_Laguna Niguel                                          bool\n",
       "City_Lake Arrowhead                                         bool\n",
       "City_Lake Elsinore                                          bool\n",
       "City_Lake Forest                                            bool\n",
       "City_Lakeport                                               bool\n",
       "City_Lakewood                                               bool\n",
       "City_Lamont                                                 bool\n",
       "City_Lancaster                                              bool\n",
       "City_Lathrop                                                bool\n",
       "City_Lawndale                                               bool\n",
       "City_Lebec                                                  bool\n",
       "City_Lemoore                                                bool\n",
       "City_Lincoln                                                bool\n",
       "City_Linden                                                 bool\n",
       "City_Lindsay                                                bool\n",
       "City_Littlerock                                             bool\n",
       "City_Livermore                                              bool\n",
       "City_Livingston                                             bool\n",
       "City_Lodi                                                   bool\n",
       "City_Loma Linda                                             bool\n",
       "City_Lompoc                                                 bool\n",
       "City_Long Beach                                             bool\n",
       "City_Loomis                                                 bool\n",
       "City_Los Alamitos                                           bool\n",
       "City_Los Altos                                              bool\n",
       "City_Los Angeles                                            bool\n",
       "City_Los Banos                                              bool\n",
       "City_Los Gatos                                              bool\n",
       "City_Lost Hills                                             bool\n",
       "City_Lower Lake                                             bool\n",
       "City_Lynwood                                                bool\n",
       "City_Madera                                                 bool\n",
       "City_Malibu                                                 bool\n",
       "City_Manteca                                                bool\n",
       "City_March Air Reserve Base                                 bool\n",
       "City_Marina                                                 bool\n",
       "City_Marina Del Rey                                         bool\n",
       "City_Mariposa                                               bool\n",
       "City_Martinez                                               bool\n",
       "City_Marysville                                             bool\n",
       "City_Mc Farland                                             bool\n",
       "City_Mendota                                                bool\n",
       "City_Menifee                                                bool\n",
       "City_Menlo Park                                             bool\n",
       "City_Mentone                                                bool\n",
       "City_Merced                                                 bool\n",
       "City_Middletown                                             bool\n",
       "City_Mill Valley                                            bool\n",
       "City_Millbrae                                               bool\n",
       "City_Milpitas                                               bool\n",
       "City_Mira Loma                                              bool\n",
       "City_Mission Hills                                          bool\n",
       "City_Mission Viejo                                          bool\n",
       "City_Modesto                                                bool\n",
       "City_Mojave                                                 bool\n",
       "City_Monrovia                                               bool\n",
       "City_Montague                                               bool\n",
       "City_Montclair                                              bool\n",
       "City_Montebello                                             bool\n",
       "City_Monterey                                               bool\n",
       "City_Monterey Park                                          bool\n",
       "City_Montrose                                               bool\n",
       "City_Moorpark                                               bool\n",
       "City_Moreno Valley                                          bool\n",
       "City_Morgan Hill                                            bool\n",
       "City_Moss Landing                                           bool\n",
       "City_Mount Shasta                                           bool\n",
       "City_Mountain View                                          bool\n",
       "City_Murrieta                                               bool\n",
       "City_Napa                                                   bool\n",
       "City_National City                                          bool\n",
       "City_Needles                                                bool\n",
       "City_Nevada City                                            bool\n",
       "City_Newark                                                 bool\n",
       "City_Newbury Park                                           bool\n",
       "City_Newcastle                                              bool\n",
       "City_Newhall                                                bool\n",
       "City_Newman                                                 bool\n",
       "City_Newport Beach                                          bool\n",
       "City_Nipomo                                                 bool\n",
       "City_Norco                                                  bool\n",
       "City_Norden                                                 bool\n",
       "City_North Highlands                                        bool\n",
       "City_North Hills                                            bool\n",
       "City_North Hollywood                                        bool\n",
       "City_Norwalk                                                bool\n",
       "City_Novato                                                 bool\n",
       "City_Nuevo                                                  bool\n",
       "City_Oakdale                                                bool\n",
       "City_Oakhurst                                               bool\n",
       "City_Oakland                                                bool\n",
       "City_Oceanside                                              bool\n",
       "City_Ojai                                                   bool\n",
       "City_Olivehurst                                             bool\n",
       "City_Ontario                                                bool\n",
       "City_Orange                                                 bool\n",
       "City_Orangevale                                             bool\n",
       "City_Orinda                                                 bool\n",
       "City_Orland                                                 bool\n",
       "City_Oroville                                               bool\n",
       "City_Other                                                  bool\n",
       "City_Oxnard                                                 bool\n",
       "City_Pacifica                                               bool\n",
       "City_Pacoima                                                bool\n",
       "City_Pala                                                   bool\n",
       "City_Palmdale                                               bool\n",
       "City_Palo Alto                                              bool\n",
       "City_Paramount                                              bool\n",
       "City_Paso Robles                                            bool\n",
       "City_Patterson                                              bool\n",
       "City_Perris                                                 bool\n",
       "City_Petaluma                                               bool\n",
       "City_Phelan                                                 bool\n",
       "City_Pico Rivera                                            bool\n",
       "City_Pinole                                                 bool\n",
       "City_Pioneer                                                bool\n",
       "City_Pismo Beach                                            bool\n",
       "City_Pittsburg                                              bool\n",
       "City_Pixley                                                 bool\n",
       "City_Placentia                                              bool\n",
       "City_Placerville                                            bool\n",
       "City_Pleasant Hill                                          bool\n",
       "City_Pleasanton                                             bool\n",
       "City_Pollock Pines                                          bool\n",
       "City_Pomona                                                 bool\n",
       "City_Porter Ranch                                           bool\n",
       "City_Porterville                                            bool\n",
       "City_Quincy                                                 bool\n",
       "City_Rancho Cordova                                         bool\n",
       "City_Rancho Cucamonga                                       bool\n",
       "City_Rancho Santa Fe                                        bool\n",
       "City_Red Bluff                                              bool\n",
       "City_Redding                                                bool\n",
       "City_Redlands                                               bool\n",
       "City_Redondo Beach                                          bool\n",
       "City_Redwood City                                           bool\n",
       "City_Reedley                                                bool\n",
       "City_Rialto                                                 bool\n",
       "City_Richmond                                               bool\n",
       "City_Ridgecrest                                             bool\n",
       "City_Rio Linda                                              bool\n",
       "City_Rio Vista                                              bool\n",
       "City_Ripon                                                  bool\n",
       "City_Riverdale                                              bool\n",
       "City_Riverside                                              bool\n",
       "City_Rocklin                                                bool\n",
       "City_Rodeo                                                  bool\n",
       "City_Rohnert Park                                           bool\n",
       "City_Rosamond                                               bool\n",
       "City_Rosemead                                               bool\n",
       "City_Roseville                                              bool\n",
       "City_Rowland Heights                                        bool\n",
       "City_Royal Oaks                                             bool\n",
       "City_Running Springs                                        bool\n",
       "City_Sacramento                                             bool\n",
       "City_Saint Helena                                           bool\n",
       "City_Salida                                                 bool\n",
       "City_Salinas                                                bool\n",
       "City_San Andreas                                            bool\n",
       "City_San Bernardino                                         bool\n",
       "City_San Bruno                                              bool\n",
       "City_San Carlos                                             bool\n",
       "City_San Clemente                                           bool\n",
       "City_San Diego                                              bool\n",
       "City_San Dimas                                              bool\n",
       "City_San Fernando                                           bool\n",
       "City_San Francisco                                          bool\n",
       "City_San Gabriel                                            bool\n",
       "City_San Jose                                               bool\n",
       "City_San Juan Bautista                                      bool\n",
       "City_San Juan Capistrano                                    bool\n",
       "City_San Leandro                                            bool\n",
       "City_San Lorenzo                                            bool\n",
       "City_San Luis Obispo                                        bool\n",
       "City_San Marcos                                             bool\n",
       "City_San Martin                                             bool\n",
       "City_San Mateo                                              bool\n",
       "City_San Pablo                                              bool\n",
       "City_San Pedro                                              bool\n",
       "City_San Rafael                                             bool\n",
       "City_San Ramon                                              bool\n",
       "City_Sanger                                                 bool\n",
       "City_Santa Ana                                              bool\n",
       "City_Santa Barbara                                          bool\n",
       "City_Santa Clara                                            bool\n",
       "City_Santa Clarita                                          bool\n",
       "City_Santa Cruz                                             bool\n",
       "City_Santa Fe Springs                                       bool\n",
       "City_Santa Margarita                                        bool\n",
       "City_Santa Maria                                            bool\n",
       "City_Santa Monica                                           bool\n",
       "City_Santa Paula                                            bool\n",
       "City_Santa Rosa                                             bool\n",
       "City_Saratoga                                               bool\n",
       "City_Sausalito                                              bool\n",
       "City_Scotts Valley                                          bool\n",
       "City_Seal Beach                                             bool\n",
       "City_Seaside                                                bool\n",
       "City_Sebastopol                                             bool\n",
       "City_Selma                                                  bool\n",
       "City_Sherman Oaks                                           bool\n",
       "City_Shingle Springs                                        bool\n",
       "City_Signal Hill                                            bool\n",
       "City_Simi Valley                                            bool\n",
       "City_Soda Springs                                           bool\n",
       "City_Solana Beach                                           bool\n",
       "City_Soledad                                                bool\n",
       "City_Somis                                                  bool\n",
       "City_Sonoma                                                 bool\n",
       "City_Sonora                                                 bool\n",
       "City_Soquel                                                 bool\n",
       "City_South El Monte                                         bool\n",
       "City_South Gate                                             bool\n",
       "City_South Lake Tahoe                                       bool\n",
       "City_South Pasadena                                         bool\n",
       "City_South San Francisco                                    bool\n",
       "City_Spring Valley                                          bool\n",
       "City_Stevenson Ranch                                        bool\n",
       "City_Stockton                                               bool\n",
       "City_Studio City                                            bool\n",
       "City_Sun Valley                                             bool\n",
       "City_Sunland                                                bool\n",
       "City_Sunnyvale                                              bool\n",
       "City_Sunol                                                  bool\n",
       "City_Susanville                                             bool\n",
       "City_Sylmar                                                 bool\n",
       "City_Taft                                                   bool\n",
       "City_Tahoe City                                             bool\n",
       "City_Tarzana                                                bool\n",
       "City_Tehachapi                                              bool\n",
       "City_Temecula                                               bool\n",
       "City_Templeton                                              bool\n",
       "City_Thousand Oaks                                          bool\n",
       "City_Tipton                                                 bool\n",
       "City_Topanga                                                bool\n",
       "City_Torrance                                               bool\n",
       "City_Tracy                                                  bool\n",
       "City_Truckee                                                bool\n",
       "City_Tulare                                                 bool\n",
       "City_Turlock                                                bool\n",
       "City_Tustin                                                 bool\n",
       "City_Ukiah                                                  bool\n",
       "City_Union City                                             bool\n",
       "City_Upland                                                 bool\n",
       "City_Upper Lake                                             bool\n",
       "City_Vacaville                                              bool\n",
       "City_Valencia                                               bool\n",
       "City_Vallejo                                                bool\n",
       "City_Valley Springs                                         bool\n",
       "City_Valley Village                                         bool\n",
       "City_Valyermo                                               bool\n",
       "City_Van Nuys                                               bool\n",
       "City_Ventura                                                bool\n",
       "City_Victorville                                            bool\n",
       "City_Visalia                                                bool\n",
       "City_Vista                                                  bool\n",
       "City_Walnut                                                 bool\n",
       "City_Walnut Creek                                           bool\n",
       "City_Wasco                                                  bool\n",
       "City_Watsonville                                            bool\n",
       "City_Weed                                                   bool\n",
       "City_West Covina                                            bool\n",
       "City_West Sacramento                                        bool\n",
       "City_Westlake Village                                       bool\n",
       "City_Westminster                                            bool\n",
       "City_Whittier                                               bool\n",
       "City_Wildomar                                               bool\n",
       "City_Williams                                               bool\n",
       "City_Willits                                                bool\n",
       "City_Willows                                                bool\n",
       "City_Wilmington                                             bool\n",
       "City_Wilton                                                 bool\n",
       "City_Winchester                                             bool\n",
       "City_Windsor                                                bool\n",
       "City_Winters                                                bool\n",
       "City_Winton                                                 bool\n",
       "City_Woodland                                               bool\n",
       "City_Woodland Hills                                         bool\n",
       "City_Yorba Linda                                            bool\n",
       "City_Yreka                                                  bool\n",
       "City_Yuba City                                              bool\n",
       "County_Alameda                                              bool\n",
       "County_Alpine                                               bool\n",
       "County_Amador                                               bool\n",
       "County_Butte                                                bool\n",
       "County_Calaveras                                            bool\n",
       "County_Colusa                                               bool\n",
       "County_Contra Costa                                         bool\n",
       "County_Del Norte                                            bool\n",
       "County_El Dorado                                            bool\n",
       "County_Fresno                                               bool\n",
       "County_Glenn                                                bool\n",
       "County_Humboldt                                             bool\n",
       "County_Imperial                                             bool\n",
       "County_Inyo                                                 bool\n",
       "County_Kern                                                 bool\n",
       "County_Kings                                                bool\n",
       "County_Lake                                                 bool\n",
       "County_Lassen                                               bool\n",
       "County_Los Angeles                                          bool\n",
       "County_Madera                                               bool\n",
       "County_Marin                                                bool\n",
       "County_Mariposa                                             bool\n",
       "County_Mendocino                                            bool\n",
       "County_Merced                                               bool\n",
       "County_Modoc                                                bool\n",
       "County_Mono                                                 bool\n",
       "County_Monterey                                             bool\n",
       "County_Napa                                                 bool\n",
       "County_Nevada                                               bool\n",
       "County_Orange                                               bool\n",
       "County_Placer                                               bool\n",
       "County_Plumas                                               bool\n",
       "County_Riverside                                            bool\n",
       "County_Sacramento                                           bool\n",
       "County_San Benito                                           bool\n",
       "County_San Bernardino                                       bool\n",
       "County_San Diego                                            bool\n",
       "County_San Francisco                                        bool\n",
       "County_San Joaquin                                          bool\n",
       "County_San Luis Obispo                                      bool\n",
       "County_San Mateo                                            bool\n",
       "County_Santa Barbara                                        bool\n",
       "County_Santa Clara                                          bool\n",
       "County_Santa Cruz                                           bool\n",
       "County_Shasta                                               bool\n",
       "County_Sierra                                               bool\n",
       "County_Siskiyou                                             bool\n",
       "County_Solano                                               bool\n",
       "County_Sonoma                                               bool\n",
       "County_Stanislaus                                           bool\n",
       "County_Sutter                                               bool\n",
       "County_Tehama                                               bool\n",
       "County_Trinity                                              bool\n",
       "County_Tulare                                               bool\n",
       "County_Tuolumne                                             bool\n",
       "County_Ventura                                              bool\n",
       "County_Yolo                                                 bool\n",
       "County_Yuba                                                 bool\n",
       "Wind_Direction_CALM                                         bool\n",
       "Wind_Direction_Calm                                         bool\n",
       "Wind_Direction_E                                            bool\n",
       "Wind_Direction_ENE                                          bool\n",
       "Wind_Direction_ESE                                          bool\n",
       "Wind_Direction_East                                         bool\n",
       "Wind_Direction_N                                            bool\n",
       "Wind_Direction_NE                                           bool\n",
       "Wind_Direction_NNE                                          bool\n",
       "Wind_Direction_NNW                                          bool\n",
       "Wind_Direction_NW                                           bool\n",
       "Wind_Direction_North                                        bool\n",
       "Wind_Direction_S                                            bool\n",
       "Wind_Direction_SE                                           bool\n",
       "Wind_Direction_SSE                                          bool\n",
       "Wind_Direction_SSW                                          bool\n",
       "Wind_Direction_SW                                           bool\n",
       "Wind_Direction_South                                        bool\n",
       "Wind_Direction_VAR                                          bool\n",
       "Wind_Direction_Variable                                     bool\n",
       "Wind_Direction_W                                            bool\n",
       "Wind_Direction_WNW                                          bool\n",
       "Wind_Direction_WSW                                          bool\n",
       "Wind_Direction_West                                         bool\n",
       "Weather_Condition_Blowing Dust                              bool\n",
       "Weather_Condition_Blowing Dust / Windy                      bool\n",
       "Weather_Condition_Blowing Sand                              bool\n",
       "Weather_Condition_Blowing Snow                              bool\n",
       "Weather_Condition_Clear                                     bool\n",
       "Weather_Condition_Cloudy                                    bool\n",
       "Weather_Condition_Cloudy / Windy                            bool\n",
       "Weather_Condition_Drizzle                                   bool\n",
       "Weather_Condition_Drizzle / Windy                           bool\n",
       "Weather_Condition_Dust Whirls                               bool\n",
       "Weather_Condition_Duststorm                                 bool\n",
       "Weather_Condition_Fair                                      bool\n",
       "Weather_Condition_Fair / Windy                              bool\n",
       "Weather_Condition_Fog                                       bool\n",
       "Weather_Condition_Fog / Windy                               bool\n",
       "Weather_Condition_Hail                                      bool\n",
       "Weather_Condition_Haze                                      bool\n",
       "Weather_Condition_Haze / Windy                              bool\n",
       "Weather_Condition_Heavy Drizzle                             bool\n",
       "Weather_Condition_Heavy Rain                                bool\n",
       "Weather_Condition_Heavy Rain / Windy                        bool\n",
       "Weather_Condition_Heavy Rain Shower                         bool\n",
       "Weather_Condition_Heavy Smoke                               bool\n",
       "Weather_Condition_Heavy Snow                                bool\n",
       "Weather_Condition_Heavy Snow / Windy                        bool\n",
       "Weather_Condition_Heavy T-Storm                             bool\n",
       "Weather_Condition_Heavy T-Storm / Windy                     bool\n",
       "Weather_Condition_Heavy Thunderstorms and Rain              bool\n",
       "Weather_Condition_Light Drizzle                             bool\n",
       "Weather_Condition_Light Drizzle / Windy                     bool\n",
       "Weather_Condition_Light Freezing Fog                        bool\n",
       "Weather_Condition_Light Freezing Rain                       bool\n",
       "Weather_Condition_Light Hail                                bool\n",
       "Weather_Condition_Light Haze                                bool\n",
       "Weather_Condition_Light Rain                                bool\n",
       "Weather_Condition_Light Rain / Windy                        bool\n",
       "Weather_Condition_Light Rain Shower                         bool\n",
       "Weather_Condition_Light Rain Shower / Windy                 bool\n",
       "Weather_Condition_Light Rain Showers                        bool\n",
       "Weather_Condition_Light Rain with Thunder                   bool\n",
       "Weather_Condition_Light Snow                                bool\n",
       "Weather_Condition_Light Snow / Windy                        bool\n",
       "Weather_Condition_Light Snow Shower                         bool\n",
       "Weather_Condition_Light Snow Showers                        bool\n",
       "Weather_Condition_Light Snow with Thunder                   bool\n",
       "Weather_Condition_Light Thunderstorm                        bool\n",
       "Weather_Condition_Light Thunderstorms and Rain              bool\n",
       "Weather_Condition_Mist                                      bool\n",
       "Weather_Condition_Mist / Windy                              bool\n",
       "Weather_Condition_Mostly Cloudy                             bool\n",
       "Weather_Condition_Mostly Cloudy / Windy                     bool\n",
       "Weather_Condition_N/A Precipitation                         bool\n",
       "Weather_Condition_Overcast                                  bool\n",
       "Weather_Condition_Partial Fog                               bool\n",
       "Weather_Condition_Partly Cloudy                             bool\n",
       "Weather_Condition_Partly Cloudy / Windy                     bool\n",
       "Weather_Condition_Patches of Fog                            bool\n",
       "Weather_Condition_Rain                                      bool\n",
       "Weather_Condition_Rain / Windy                              bool\n",
       "Weather_Condition_Rain Shower                               bool\n",
       "Weather_Condition_Rain Shower / Windy                       bool\n",
       "Weather_Condition_Rain Showers                              bool\n",
       "Weather_Condition_Sand / Windy                              bool\n",
       "Weather_Condition_Scattered Clouds                          bool\n",
       "Weather_Condition_Shallow Fog                               bool\n",
       "Weather_Condition_Showers in the Vicinity                   bool\n",
       "Weather_Condition_Small Hail                                bool\n",
       "Weather_Condition_Smoke                                     bool\n",
       "Weather_Condition_Smoke / Windy                             bool\n",
       "Weather_Condition_Snow                                      bool\n",
       "Weather_Condition_Snow / Windy                              bool\n",
       "Weather_Condition_Snow and Thunder                          bool\n",
       "Weather_Condition_Squalls                                   bool\n",
       "Weather_Condition_Squalls / Windy                           bool\n",
       "Weather_Condition_T-Storm                                   bool\n",
       "Weather_Condition_T-Storm / Windy                           bool\n",
       "Weather_Condition_Thunder                                   bool\n",
       "Weather_Condition_Thunder / Windy                           bool\n",
       "Weather_Condition_Thunder and Hail                          bool\n",
       "Weather_Condition_Thunder in the Vicinity                   bool\n",
       "Weather_Condition_Thunderstorm                              bool\n",
       "Weather_Condition_Thunderstorms and Rain                    bool\n",
       "Weather_Condition_Volcanic Ash                              bool\n",
       "Weather_Condition_Widespread Dust                           bool\n",
       "Weather_Condition_Widespread Dust / Windy                   bool\n",
       "Weather_Condition_Wintry Mix                                bool\n",
       "Weather_Condition_Wintry Mix / Windy                        bool\n",
       "Zipcode_Group_894                                           bool\n",
       "Zipcode_Group_900                                           bool\n",
       "Zipcode_Group_902                                           bool\n",
       "Zipcode_Group_903                                           bool\n",
       "Zipcode_Group_904                                           bool\n",
       "Zipcode_Group_905                                           bool\n",
       "Zipcode_Group_906                                           bool\n",
       "Zipcode_Group_907                                           bool\n",
       "Zipcode_Group_908                                           bool\n",
       "Zipcode_Group_910                                           bool\n",
       "Zipcode_Group_911                                           bool\n",
       "Zipcode_Group_912                                           bool\n",
       "Zipcode_Group_913                                           bool\n",
       "Zipcode_Group_914                                           bool\n",
       "Zipcode_Group_915                                           bool\n",
       "Zipcode_Group_916                                           bool\n",
       "Zipcode_Group_917                                           bool\n",
       "Zipcode_Group_918                                           bool\n",
       "Zipcode_Group_919                                           bool\n",
       "Zipcode_Group_920                                           bool\n",
       "Zipcode_Group_921                                           bool\n",
       "Zipcode_Group_922                                           bool\n",
       "Zipcode_Group_923                                           bool\n",
       "Zipcode_Group_924                                           bool\n",
       "Zipcode_Group_925                                           bool\n",
       "Zipcode_Group_926                                           bool\n",
       "Zipcode_Group_927                                           bool\n",
       "Zipcode_Group_928                                           bool\n",
       "Zipcode_Group_930                                           bool\n",
       "Zipcode_Group_931                                           bool\n",
       "Zipcode_Group_932                                           bool\n",
       "Zipcode_Group_933                                           bool\n",
       "Zipcode_Group_934                                           bool\n",
       "Zipcode_Group_935                                           bool\n",
       "Zipcode_Group_936                                           bool\n",
       "Zipcode_Group_937                                           bool\n",
       "Zipcode_Group_939                                           bool\n",
       "Zipcode_Group_940                                           bool\n",
       "Zipcode_Group_941                                           bool\n",
       "Zipcode_Group_943                                           bool\n",
       "Zipcode_Group_944                                           bool\n",
       "Zipcode_Group_945                                           bool\n",
       "Zipcode_Group_946                                           bool\n",
       "Zipcode_Group_947                                           bool\n",
       "Zipcode_Group_948                                           bool\n",
       "Zipcode_Group_949                                           bool\n",
       "Zipcode_Group_950                                           bool\n",
       "Zipcode_Group_951                                           bool\n",
       "Zipcode_Group_952                                           bool\n",
       "Zipcode_Group_953                                           bool\n",
       "Zipcode_Group_954                                           bool\n",
       "Zipcode_Group_955                                           bool\n",
       "Zipcode_Group_956                                           bool\n",
       "Zipcode_Group_957                                           bool\n",
       "Zipcode_Group_958                                           bool\n",
       "Zipcode_Group_959                                           bool\n",
       "Zipcode_Group_960                                           bool\n",
       "Zipcode_Group_961                                           bool\n",
       "Date                                              datetime64[ns]\n",
       "day_of_week                                              float64\n",
       "Hour                                                       int64\n",
       "Minute                                                   float64\n",
       "Duration_minutes                                         float64\n",
       "Month                                                    float64\n",
       "Is_Holiday                                                 int64\n",
       "Is_Rush_Hour                                               int64\n",
       "dtype: object"
      ]
     },
     "execution_count": 70,
     "metadata": {},
     "output_type": "execute_result"
    }
   ],
   "source": [
    "pd.set_option('display.max_rows', None)  # Show all rows\n",
    "\n",
    "filtered_df.dtypes"
   ]
  },
  {
   "cell_type": "code",
   "execution_count": 71,
   "id": "8925bf36-f752-441c-918b-308bfeea5434",
   "metadata": {
    "tags": []
   },
   "outputs": [],
   "source": [
    "cols_to_standardize = [\n",
    "    \"Distance(mi)\", \"Temperature(F)\", \"Wind_Chill(F)\", \"Humidity(%)\",\n",
    "    \"Pressure(in)\", \"Visibility(mi)\", \"Wind_Speed(mph)\",\n",
    "    \"Hour\", \"Minute\", \"Duration_minutes\"\n",
    "]\n",
    "\n",
    "filtered_df.drop(\"Date\",axis =1,inplace = True)\n",
    "\n",
    "from sklearn.preprocessing import StandardScaler\n",
    "\n",
    "scaler = StandardScaler()\n",
    "scaled_data = scaler.fit_transform(filtered_df[cols_to_standardize])\n",
    "\n",
    "scaled_df = pd.DataFrame(scaled_data, columns=cols_to_standardize)\n",
    "\n",
    "final_df = pd.concat([scaled_df, filtered_df.drop(columns=cols_to_standardize).reset_index(drop=True)], axis=1)\n"
   ]
  },
  {
   "cell_type": "code",
   "execution_count": 72,
   "id": "5d6d2e4a-f2f6-435e-ada4-4da3c83fb43c",
   "metadata": {
    "tags": []
   },
   "outputs": [],
   "source": [
    "pd.set_option('display.max_rows', None)  # Show all rows\n",
    "\n",
    "filtered_df.dtypes\n",
    "final_df.to_csv(\"test_1.csv\")"
   ]
  },
  {
   "cell_type": "code",
   "execution_count": 75,
   "id": "91cd447c-9bb5-416e-9a9d-27b742fe9ccc",
   "metadata": {},
   "outputs": [
    {
     "data": {
      "text/plain": [
       "Distance(mi)                                      float64\n",
       "Temperature(F)                                    float64\n",
       "Wind_Chill(F)                                     float64\n",
       "Humidity(%)                                       float64\n",
       "Pressure(in)                                      float64\n",
       "Visibility(mi)                                    float64\n",
       "Wind_Speed(mph)                                   float64\n",
       "Hour                                              float64\n",
       "Minute                                            float64\n",
       "Duration_minutes                                  float64\n",
       "Severity                                            int64\n",
       "Zipcode                                             int64\n",
       "Precipitation(in)                                 float64\n",
       "City_Acampo                                          bool\n",
       "City_Acton                                           bool\n",
       "City_Agoura Hills                                    bool\n",
       "City_Alamo                                           bool\n",
       "City_Alhambra                                        bool\n",
       "City_Alta                                            bool\n",
       "City_American Canyon                                 bool\n",
       "City_Anaheim                                         bool\n",
       "City_Anderson                                        bool\n",
       "City_Antelope                                        bool\n",
       "City_Antioch                                         bool\n",
       "City_Apple Valley                                    bool\n",
       "City_Aptos                                           bool\n",
       "City_Arcadia                                         bool\n",
       "City_Arcata                                          bool\n",
       "City_Aromas                                          bool\n",
       "City_Arroyo Grande                                   bool\n",
       "City_Artesia                                         bool\n",
       "City_Arvin                                           bool\n",
       "City_Atascadero                                      bool\n",
       "City_Atwater                                         bool\n",
       "City_Auburn                                          bool\n",
       "City_Azusa                                           bool\n",
       "City_Bakersfield                                     bool\n",
       "City_Baldwin Park                                    bool\n",
       "City_Barstow                                         bool\n",
       "City_Bay Point                                       bool\n",
       "City_Bell Gardens                                    bool\n",
       "City_Bellflower                                      bool\n",
       "City_Belmont                                         bool\n",
       "City_Benicia                                         bool\n",
       "City_Berkeley                                        bool\n",
       "City_Big Sur                                         bool\n",
       "City_Bishop                                          bool\n",
       "City_Bloomington                                     bool\n",
       "City_Blythe                                          bool\n",
       "City_Bonsall                                         bool\n",
       "City_Boulder Creek                                   bool\n",
       "City_Brea                                            bool\n",
       "City_Brentwood                                       bool\n",
       "City_Brisbane                                        bool\n",
       "City_Buena Park                                      bool\n",
       "City_Burbank                                         bool\n",
       "City_Burlingame                                      bool\n",
       "City_Buttonwillow                                    bool\n",
       "City_Byron                                           bool\n",
       "City_Calabasas                                       bool\n",
       "City_Calistoga                                       bool\n",
       "City_Camarillo                                       bool\n",
       "City_Camp Pendleton                                  bool\n",
       "City_Campbell                                        bool\n",
       "City_Canyon Country                                  bool\n",
       "City_Capitola                                        bool\n",
       "City_Cardiff By the Sea                              bool\n",
       "City_Carlsbad                                        bool\n",
       "City_Carmel                                          bool\n",
       "City_Carmichael                                      bool\n",
       "City_Carpinteria                                     bool\n",
       "City_Carson                                          bool\n",
       "City_Castaic                                         bool\n",
       "City_Castro Valley                                   bool\n",
       "City_Castroville                                     bool\n",
       "City_Ceres                                           bool\n",
       "City_Cerritos                                        bool\n",
       "City_Chatsworth                                      bool\n",
       "City_Chico                                           bool\n",
       "City_Chino                                           bool\n",
       "City_Chino Hills                                     bool\n",
       "City_Chowchilla                                      bool\n",
       "City_Chula Vista                                     bool\n",
       "City_Citrus Heights                                  bool\n",
       "City_City Of Industry                                bool\n",
       "City_Claremont                                       bool\n",
       "City_Clearlake Oaks                                  bool\n",
       "City_Cloverdale                                      bool\n",
       "City_Clovis                                          bool\n",
       "City_Coalinga                                        bool\n",
       "City_Coarsegold                                      bool\n",
       "City_Colfax                                          bool\n",
       "City_Colton                                          bool\n",
       "City_Commerce                                        bool\n",
       "City_Compton                                         bool\n",
       "City_Concord                                         bool\n",
       "City_Corning                                         bool\n",
       "City_Corona                                          bool\n",
       "City_Corte Madera                                    bool\n",
       "City_Costa Mesa                                      bool\n",
       "City_Cotati                                          bool\n",
       "City_Cottonwood                                      bool\n",
       "City_Covina                                          bool\n",
       "City_Crescent City                                   bool\n",
       "City_Crestline                                       bool\n",
       "City_Crockett                                        bool\n",
       "City_Culver City                                     bool\n",
       "City_Cupertino                                       bool\n",
       "City_Daly City                                       bool\n",
       "City_Danville                                        bool\n",
       "City_Davis                                           bool\n",
       "City_Del Mar                                         bool\n",
       "City_Delano                                          bool\n",
       "City_Delhi                                           bool\n",
       "City_Diamond Bar                                     bool\n",
       "City_Dinuba                                          bool\n",
       "City_Discovery Bay                                   bool\n",
       "City_Dixon                                           bool\n",
       "City_Dos Palos                                       bool\n",
       "City_Downey                                          bool\n",
       "City_Duarte                                          bool\n",
       "City_Dublin                                          bool\n",
       "City_Earlimart                                       bool\n",
       "City_El Cajon                                        bool\n",
       "City_El Dorado Hills                                 bool\n",
       "City_El Monte                                        bool\n",
       "City_El Segundo                                      bool\n",
       "City_El Sobrante                                     bool\n",
       "City_Elk Grove                                       bool\n",
       "City_Emeryville                                      bool\n",
       "City_Encinitas                                       bool\n",
       "City_Encino                                          bool\n",
       "City_Escalon                                         bool\n",
       "City_Escondido                                       bool\n",
       "City_Eureka                                          bool\n",
       "City_Exeter                                          bool\n",
       "City_Fair Oaks                                       bool\n",
       "City_Fairfield                                       bool\n",
       "City_Fallbrook                                       bool\n",
       "City_Felton                                          bool\n",
       "City_Fillmore                                        bool\n",
       "City_Firebaugh                                       bool\n",
       "City_Floriston                                       bool\n",
       "City_Folsom                                          bool\n",
       "City_Fontana                                         bool\n",
       "City_Forestville                                     bool\n",
       "City_Fort Bragg                                      bool\n",
       "City_Fountain Valley                                 bool\n",
       "City_Fowler                                          bool\n",
       "City_Fremont                                         bool\n",
       "City_French Camp                                     bool\n",
       "City_Fresno                                          bool\n",
       "City_Fullerton                                       bool\n",
       "City_Galt                                            bool\n",
       "City_Garden Grove                                    bool\n",
       "City_Gardena                                         bool\n",
       "City_Gilroy                                          bool\n",
       "City_Glendale                                        bool\n",
       "City_Glendora                                        bool\n",
       "City_Goleta                                          bool\n",
       "City_Gonzales                                        bool\n",
       "City_Granada Hills                                   bool\n",
       "City_Grand Terrace                                   bool\n",
       "City_Granite Bay                                     bool\n",
       "City_Grass Valley                                    bool\n",
       "City_Greenbrae                                       bool\n",
       "City_Guerneville                                     bool\n",
       "City_Gustine                                         bool\n",
       "City_Hacienda Heights                                bool\n",
       "City_Half Moon Bay                                   bool\n",
       "City_Hanford                                         bool\n",
       "City_Harbor City                                     bool\n",
       "City_Hawthorne                                       bool\n",
       "City_Hayward                                         bool\n",
       "City_Healdsburg                                      bool\n",
       "City_Hemet                                           bool\n",
       "City_Hercules                                        bool\n",
       "City_Hesperia                                        bool\n",
       "City_Highland                                        bool\n",
       "City_Hilmar                                          bool\n",
       "City_Hollister                                       bool\n",
       "City_Homeland                                        bool\n",
       "City_Hopland                                         bool\n",
       "City_Huntington Beach                                bool\n",
       "City_Huntington Park                                 bool\n",
       "City_Huron                                           bool\n",
       "City_Inglewood                                       bool\n",
       "City_Ione                                            bool\n",
       "City_Irvine                                          bool\n",
       "City_Isleton                                         bool\n",
       "City_Jackson                                         bool\n",
       "City_Jamestown                                       bool\n",
       "City_Jurupa Valley                                   bool\n",
       "City_Kelseyville                                     bool\n",
       "City_Kerman                                          bool\n",
       "City_Kettleman City                                  bool\n",
       "City_King City                                       bool\n",
       "City_Kingsburg                                       bool\n",
       "City_La Crescenta                                    bool\n",
       "City_La Jolla                                        bool\n",
       "City_La Mesa                                         bool\n",
       "City_La Mirada                                       bool\n",
       "City_La Palma                                        bool\n",
       "City_La Puente                                       bool\n",
       "City_La Verne                                        bool\n",
       "City_Ladera Ranch                                    bool\n",
       "City_Lafayette                                       bool\n",
       "City_Laguna Hills                                    bool\n",
       "City_Laguna Niguel                                   bool\n",
       "City_Lake Arrowhead                                  bool\n",
       "City_Lake Elsinore                                   bool\n",
       "City_Lake Forest                                     bool\n",
       "City_Lakeport                                        bool\n",
       "City_Lakewood                                        bool\n",
       "City_Lamont                                          bool\n",
       "City_Lancaster                                       bool\n",
       "City_Lathrop                                         bool\n",
       "City_Lawndale                                        bool\n",
       "City_Lebec                                           bool\n",
       "City_Lemoore                                         bool\n",
       "City_Lincoln                                         bool\n",
       "City_Linden                                          bool\n",
       "City_Lindsay                                         bool\n",
       "City_Littlerock                                      bool\n",
       "City_Livermore                                       bool\n",
       "City_Livingston                                      bool\n",
       "City_Lodi                                            bool\n",
       "City_Loma Linda                                      bool\n",
       "City_Lompoc                                          bool\n",
       "City_Long Beach                                      bool\n",
       "City_Loomis                                          bool\n",
       "City_Los Alamitos                                    bool\n",
       "City_Los Altos                                       bool\n",
       "City_Los Angeles                                     bool\n",
       "City_Los Banos                                       bool\n",
       "City_Los Gatos                                       bool\n",
       "City_Lost Hills                                      bool\n",
       "City_Lower Lake                                      bool\n",
       "City_Lynwood                                         bool\n",
       "City_Madera                                          bool\n",
       "City_Malibu                                          bool\n",
       "City_Manteca                                         bool\n",
       "City_March Air Reserve Base                          bool\n",
       "City_Marina                                          bool\n",
       "City_Marina Del Rey                                  bool\n",
       "City_Mariposa                                        bool\n",
       "City_Martinez                                        bool\n",
       "City_Marysville                                      bool\n",
       "City_Mc Farland                                      bool\n",
       "City_Mendota                                         bool\n",
       "City_Menifee                                         bool\n",
       "City_Menlo Park                                      bool\n",
       "City_Mentone                                         bool\n",
       "City_Merced                                          bool\n",
       "City_Middletown                                      bool\n",
       "City_Mill Valley                                     bool\n",
       "City_Millbrae                                        bool\n",
       "City_Milpitas                                        bool\n",
       "City_Mira Loma                                       bool\n",
       "City_Mission Hills                                   bool\n",
       "City_Mission Viejo                                   bool\n",
       "City_Modesto                                         bool\n",
       "City_Mojave                                          bool\n",
       "City_Monrovia                                        bool\n",
       "City_Montague                                        bool\n",
       "City_Montclair                                       bool\n",
       "City_Montebello                                      bool\n",
       "City_Monterey                                        bool\n",
       "City_Monterey Park                                   bool\n",
       "City_Montrose                                        bool\n",
       "City_Moorpark                                        bool\n",
       "City_Moreno Valley                                   bool\n",
       "City_Morgan Hill                                     bool\n",
       "City_Moss Landing                                    bool\n",
       "City_Mount Shasta                                    bool\n",
       "City_Mountain View                                   bool\n",
       "City_Murrieta                                        bool\n",
       "City_Napa                                            bool\n",
       "City_National City                                   bool\n",
       "City_Needles                                         bool\n",
       "City_Nevada City                                     bool\n",
       "City_Newark                                          bool\n",
       "City_Newbury Park                                    bool\n",
       "City_Newcastle                                       bool\n",
       "City_Newhall                                         bool\n",
       "City_Newman                                          bool\n",
       "City_Newport Beach                                   bool\n",
       "City_Nipomo                                          bool\n",
       "City_Norco                                           bool\n",
       "City_Norden                                          bool\n",
       "City_North Highlands                                 bool\n",
       "City_North Hills                                     bool\n",
       "City_North Hollywood                                 bool\n",
       "City_Norwalk                                         bool\n",
       "City_Novato                                          bool\n",
       "City_Nuevo                                           bool\n",
       "City_Oakdale                                         bool\n",
       "City_Oakhurst                                        bool\n",
       "City_Oakland                                         bool\n",
       "City_Oceanside                                       bool\n",
       "City_Ojai                                            bool\n",
       "City_Olivehurst                                      bool\n",
       "City_Ontario                                         bool\n",
       "City_Orange                                          bool\n",
       "City_Orangevale                                      bool\n",
       "City_Orinda                                          bool\n",
       "City_Orland                                          bool\n",
       "City_Oroville                                        bool\n",
       "City_Other                                           bool\n",
       "City_Oxnard                                          bool\n",
       "City_Pacifica                                        bool\n",
       "City_Pacoima                                         bool\n",
       "City_Pala                                            bool\n",
       "City_Palmdale                                        bool\n",
       "City_Palo Alto                                       bool\n",
       "City_Paramount                                       bool\n",
       "City_Paso Robles                                     bool\n",
       "City_Patterson                                       bool\n",
       "City_Perris                                          bool\n",
       "City_Petaluma                                        bool\n",
       "City_Phelan                                          bool\n",
       "City_Pico Rivera                                     bool\n",
       "City_Pinole                                          bool\n",
       "City_Pioneer                                         bool\n",
       "City_Pismo Beach                                     bool\n",
       "City_Pittsburg                                       bool\n",
       "City_Pixley                                          bool\n",
       "City_Placentia                                       bool\n",
       "City_Placerville                                     bool\n",
       "City_Pleasant Hill                                   bool\n",
       "City_Pleasanton                                      bool\n",
       "City_Pollock Pines                                   bool\n",
       "City_Pomona                                          bool\n",
       "City_Porter Ranch                                    bool\n",
       "City_Porterville                                     bool\n",
       "City_Quincy                                          bool\n",
       "City_Rancho Cordova                                  bool\n",
       "City_Rancho Cucamonga                                bool\n",
       "City_Rancho Santa Fe                                 bool\n",
       "City_Red Bluff                                       bool\n",
       "City_Redding                                         bool\n",
       "City_Redlands                                        bool\n",
       "City_Redondo Beach                                   bool\n",
       "City_Redwood City                                    bool\n",
       "City_Reedley                                         bool\n",
       "City_Rialto                                          bool\n",
       "City_Richmond                                        bool\n",
       "City_Ridgecrest                                      bool\n",
       "City_Rio Linda                                       bool\n",
       "City_Rio Vista                                       bool\n",
       "City_Ripon                                           bool\n",
       "City_Riverdale                                       bool\n",
       "City_Riverside                                       bool\n",
       "City_Rocklin                                         bool\n",
       "City_Rodeo                                           bool\n",
       "City_Rohnert Park                                    bool\n",
       "City_Rosamond                                        bool\n",
       "City_Rosemead                                        bool\n",
       "City_Roseville                                       bool\n",
       "City_Rowland Heights                                 bool\n",
       "City_Royal Oaks                                      bool\n",
       "City_Running Springs                                 bool\n",
       "City_Sacramento                                      bool\n",
       "City_Saint Helena                                    bool\n",
       "City_Salida                                          bool\n",
       "City_Salinas                                         bool\n",
       "City_San Andreas                                     bool\n",
       "City_San Bernardino                                  bool\n",
       "City_San Bruno                                       bool\n",
       "City_San Carlos                                      bool\n",
       "City_San Clemente                                    bool\n",
       "City_San Diego                                       bool\n",
       "City_San Dimas                                       bool\n",
       "City_San Fernando                                    bool\n",
       "City_San Francisco                                   bool\n",
       "City_San Gabriel                                     bool\n",
       "City_San Jose                                        bool\n",
       "City_San Juan Bautista                               bool\n",
       "City_San Juan Capistrano                             bool\n",
       "City_San Leandro                                     bool\n",
       "City_San Lorenzo                                     bool\n",
       "City_San Luis Obispo                                 bool\n",
       "City_San Marcos                                      bool\n",
       "City_San Martin                                      bool\n",
       "City_San Mateo                                       bool\n",
       "City_San Pablo                                       bool\n",
       "City_San Pedro                                       bool\n",
       "City_San Rafael                                      bool\n",
       "City_San Ramon                                       bool\n",
       "City_Sanger                                          bool\n",
       "City_Santa Ana                                       bool\n",
       "City_Santa Barbara                                   bool\n",
       "City_Santa Clara                                     bool\n",
       "City_Santa Clarita                                   bool\n",
       "City_Santa Cruz                                      bool\n",
       "City_Santa Fe Springs                                bool\n",
       "City_Santa Margarita                                 bool\n",
       "City_Santa Maria                                     bool\n",
       "City_Santa Monica                                    bool\n",
       "City_Santa Paula                                     bool\n",
       "City_Santa Rosa                                      bool\n",
       "City_Saratoga                                        bool\n",
       "City_Sausalito                                       bool\n",
       "City_Scotts Valley                                   bool\n",
       "City_Seal Beach                                      bool\n",
       "City_Seaside                                         bool\n",
       "City_Sebastopol                                      bool\n",
       "City_Selma                                           bool\n",
       "City_Sherman Oaks                                    bool\n",
       "City_Shingle Springs                                 bool\n",
       "City_Signal Hill                                     bool\n",
       "City_Simi Valley                                     bool\n",
       "City_Soda Springs                                    bool\n",
       "City_Solana Beach                                    bool\n",
       "City_Soledad                                         bool\n",
       "City_Somis                                           bool\n",
       "City_Sonoma                                          bool\n",
       "City_Sonora                                          bool\n",
       "City_Soquel                                          bool\n",
       "City_South El Monte                                  bool\n",
       "City_South Gate                                      bool\n",
       "City_South Lake Tahoe                                bool\n",
       "City_South Pasadena                                  bool\n",
       "City_South San Francisco                             bool\n",
       "City_Spring Valley                                   bool\n",
       "City_Stevenson Ranch                                 bool\n",
       "City_Stockton                                        bool\n",
       "City_Studio City                                     bool\n",
       "City_Sun Valley                                      bool\n",
       "City_Sunland                                         bool\n",
       "City_Sunnyvale                                       bool\n",
       "City_Sunol                                           bool\n",
       "City_Susanville                                      bool\n",
       "City_Sylmar                                          bool\n",
       "City_Taft                                            bool\n",
       "City_Tahoe City                                      bool\n",
       "City_Tarzana                                         bool\n",
       "City_Tehachapi                                       bool\n",
       "City_Temecula                                        bool\n",
       "City_Templeton                                       bool\n",
       "City_Thousand Oaks                                   bool\n",
       "City_Tipton                                          bool\n",
       "City_Topanga                                         bool\n",
       "City_Torrance                                        bool\n",
       "City_Tracy                                           bool\n",
       "City_Truckee                                         bool\n",
       "City_Tulare                                          bool\n",
       "City_Turlock                                         bool\n",
       "City_Tustin                                          bool\n",
       "City_Ukiah                                           bool\n",
       "City_Union City                                      bool\n",
       "City_Upland                                          bool\n",
       "City_Upper Lake                                      bool\n",
       "City_Vacaville                                       bool\n",
       "City_Valencia                                        bool\n",
       "City_Vallejo                                         bool\n",
       "City_Valley Springs                                  bool\n",
       "City_Valley Village                                  bool\n",
       "City_Valyermo                                        bool\n",
       "City_Van Nuys                                        bool\n",
       "City_Ventura                                         bool\n",
       "City_Victorville                                     bool\n",
       "City_Visalia                                         bool\n",
       "City_Vista                                           bool\n",
       "City_Walnut                                          bool\n",
       "City_Walnut Creek                                    bool\n",
       "City_Wasco                                           bool\n",
       "City_Watsonville                                     bool\n",
       "City_Weed                                            bool\n",
       "City_West Covina                                     bool\n",
       "City_West Sacramento                                 bool\n",
       "City_Westlake Village                                bool\n",
       "City_Westminster                                     bool\n",
       "City_Whittier                                        bool\n",
       "City_Wildomar                                        bool\n",
       "City_Williams                                        bool\n",
       "City_Willits                                         bool\n",
       "City_Willows                                         bool\n",
       "City_Wilmington                                      bool\n",
       "City_Wilton                                          bool\n",
       "City_Winchester                                      bool\n",
       "City_Windsor                                         bool\n",
       "City_Winters                                         bool\n",
       "City_Winton                                          bool\n",
       "City_Woodland                                        bool\n",
       "City_Woodland Hills                                  bool\n",
       "City_Yorba Linda                                     bool\n",
       "City_Yreka                                           bool\n",
       "City_Yuba City                                       bool\n",
       "County_Alameda                                       bool\n",
       "County_Alpine                                        bool\n",
       "County_Amador                                        bool\n",
       "County_Butte                                         bool\n",
       "County_Calaveras                                     bool\n",
       "County_Colusa                                        bool\n",
       "County_Contra Costa                                  bool\n",
       "County_Del Norte                                     bool\n",
       "County_El Dorado                                     bool\n",
       "County_Fresno                                        bool\n",
       "County_Glenn                                         bool\n",
       "County_Humboldt                                      bool\n",
       "County_Imperial                                      bool\n",
       "County_Inyo                                          bool\n",
       "County_Kern                                          bool\n",
       "County_Kings                                         bool\n",
       "County_Lake                                          bool\n",
       "County_Lassen                                        bool\n",
       "County_Los Angeles                                   bool\n",
       "County_Madera                                        bool\n",
       "County_Marin                                         bool\n",
       "County_Mariposa                                      bool\n",
       "County_Mendocino                                     bool\n",
       "County_Merced                                        bool\n",
       "County_Modoc                                         bool\n",
       "County_Mono                                          bool\n",
       "County_Monterey                                      bool\n",
       "County_Napa                                          bool\n",
       "County_Nevada                                        bool\n",
       "County_Orange                                        bool\n",
       "County_Placer                                        bool\n",
       "County_Plumas                                        bool\n",
       "County_Riverside                                     bool\n",
       "County_Sacramento                                    bool\n",
       "County_San Benito                                    bool\n",
       "County_San Bernardino                                bool\n",
       "County_San Diego                                     bool\n",
       "County_San Francisco                                 bool\n",
       "County_San Joaquin                                   bool\n",
       "County_San Luis Obispo                               bool\n",
       "County_San Mateo                                     bool\n",
       "County_Santa Barbara                                 bool\n",
       "County_Santa Clara                                   bool\n",
       "County_Santa Cruz                                    bool\n",
       "County_Shasta                                        bool\n",
       "County_Sierra                                        bool\n",
       "County_Siskiyou                                      bool\n",
       "County_Solano                                        bool\n",
       "County_Sonoma                                        bool\n",
       "County_Stanislaus                                    bool\n",
       "County_Sutter                                        bool\n",
       "County_Tehama                                        bool\n",
       "County_Trinity                                       bool\n",
       "County_Tulare                                        bool\n",
       "County_Tuolumne                                      bool\n",
       "County_Ventura                                       bool\n",
       "County_Yolo                                          bool\n",
       "County_Yuba                                          bool\n",
       "Wind_Direction_CALM                                  bool\n",
       "Wind_Direction_Calm                                  bool\n",
       "Wind_Direction_E                                     bool\n",
       "Wind_Direction_ENE                                   bool\n",
       "Wind_Direction_ESE                                   bool\n",
       "Wind_Direction_East                                  bool\n",
       "Wind_Direction_N                                     bool\n",
       "Wind_Direction_NE                                    bool\n",
       "Wind_Direction_NNE                                   bool\n",
       "Wind_Direction_NNW                                   bool\n",
       "Wind_Direction_NW                                    bool\n",
       "Wind_Direction_North                                 bool\n",
       "Wind_Direction_S                                     bool\n",
       "Wind_Direction_SE                                    bool\n",
       "Wind_Direction_SSE                                   bool\n",
       "Wind_Direction_SSW                                   bool\n",
       "Wind_Direction_SW                                    bool\n",
       "Wind_Direction_South                                 bool\n",
       "Wind_Direction_VAR                                   bool\n",
       "Wind_Direction_Variable                              bool\n",
       "Wind_Direction_W                                     bool\n",
       "Wind_Direction_WNW                                   bool\n",
       "Wind_Direction_WSW                                   bool\n",
       "Wind_Direction_West                                  bool\n",
       "Weather_Condition_Blowing Dust                       bool\n",
       "Weather_Condition_Blowing Dust / Windy               bool\n",
       "Weather_Condition_Blowing Sand                       bool\n",
       "Weather_Condition_Blowing Snow                       bool\n",
       "Weather_Condition_Clear                              bool\n",
       "Weather_Condition_Cloudy                             bool\n",
       "Weather_Condition_Cloudy / Windy                     bool\n",
       "Weather_Condition_Drizzle                            bool\n",
       "Weather_Condition_Drizzle / Windy                    bool\n",
       "Weather_Condition_Dust Whirls                        bool\n",
       "Weather_Condition_Duststorm                          bool\n",
       "Weather_Condition_Fair                               bool\n",
       "Weather_Condition_Fair / Windy                       bool\n",
       "Weather_Condition_Fog                                bool\n",
       "Weather_Condition_Fog / Windy                        bool\n",
       "Weather_Condition_Hail                               bool\n",
       "Weather_Condition_Haze                               bool\n",
       "Weather_Condition_Haze / Windy                       bool\n",
       "Weather_Condition_Heavy Drizzle                      bool\n",
       "Weather_Condition_Heavy Rain                         bool\n",
       "Weather_Condition_Heavy Rain / Windy                 bool\n",
       "Weather_Condition_Heavy Rain Shower                  bool\n",
       "Weather_Condition_Heavy Smoke                        bool\n",
       "Weather_Condition_Heavy Snow                         bool\n",
       "Weather_Condition_Heavy Snow / Windy                 bool\n",
       "Weather_Condition_Heavy T-Storm                      bool\n",
       "Weather_Condition_Heavy T-Storm / Windy              bool\n",
       "Weather_Condition_Heavy Thunderstorms and Rain       bool\n",
       "Weather_Condition_Light Drizzle                      bool\n",
       "Weather_Condition_Light Drizzle / Windy              bool\n",
       "Weather_Condition_Light Freezing Fog                 bool\n",
       "Weather_Condition_Light Freezing Rain                bool\n",
       "Weather_Condition_Light Hail                         bool\n",
       "Weather_Condition_Light Haze                         bool\n",
       "Weather_Condition_Light Rain                         bool\n",
       "Weather_Condition_Light Rain / Windy                 bool\n",
       "Weather_Condition_Light Rain Shower                  bool\n",
       "Weather_Condition_Light Rain Shower / Windy          bool\n",
       "Weather_Condition_Light Rain Showers                 bool\n",
       "Weather_Condition_Light Rain with Thunder            bool\n",
       "Weather_Condition_Light Snow                         bool\n",
       "Weather_Condition_Light Snow / Windy                 bool\n",
       "Weather_Condition_Light Snow Shower                  bool\n",
       "Weather_Condition_Light Snow Showers                 bool\n",
       "Weather_Condition_Light Snow with Thunder            bool\n",
       "Weather_Condition_Light Thunderstorm                 bool\n",
       "Weather_Condition_Light Thunderstorms and Rain       bool\n",
       "Weather_Condition_Mist                               bool\n",
       "Weather_Condition_Mist / Windy                       bool\n",
       "Weather_Condition_Mostly Cloudy                      bool\n",
       "Weather_Condition_Mostly Cloudy / Windy              bool\n",
       "Weather_Condition_N/A Precipitation                  bool\n",
       "Weather_Condition_Overcast                           bool\n",
       "Weather_Condition_Partial Fog                        bool\n",
       "Weather_Condition_Partly Cloudy                      bool\n",
       "Weather_Condition_Partly Cloudy / Windy              bool\n",
       "Weather_Condition_Patches of Fog                     bool\n",
       "Weather_Condition_Rain                               bool\n",
       "Weather_Condition_Rain / Windy                       bool\n",
       "Weather_Condition_Rain Shower                        bool\n",
       "Weather_Condition_Rain Shower / Windy                bool\n",
       "Weather_Condition_Rain Showers                       bool\n",
       "Weather_Condition_Sand / Windy                       bool\n",
       "Weather_Condition_Scattered Clouds                   bool\n",
       "Weather_Condition_Shallow Fog                        bool\n",
       "Weather_Condition_Showers in the Vicinity            bool\n",
       "Weather_Condition_Small Hail                         bool\n",
       "Weather_Condition_Smoke                              bool\n",
       "Weather_Condition_Smoke / Windy                      bool\n",
       "Weather_Condition_Snow                               bool\n",
       "Weather_Condition_Snow / Windy                       bool\n",
       "Weather_Condition_Snow and Thunder                   bool\n",
       "Weather_Condition_Squalls                            bool\n",
       "Weather_Condition_Squalls / Windy                    bool\n",
       "Weather_Condition_T-Storm                            bool\n",
       "Weather_Condition_T-Storm / Windy                    bool\n",
       "Weather_Condition_Thunder                            bool\n",
       "Weather_Condition_Thunder / Windy                    bool\n",
       "Weather_Condition_Thunder and Hail                   bool\n",
       "Weather_Condition_Thunder in the Vicinity            bool\n",
       "Weather_Condition_Thunderstorm                       bool\n",
       "Weather_Condition_Thunderstorms and Rain             bool\n",
       "Weather_Condition_Volcanic Ash                       bool\n",
       "Weather_Condition_Widespread Dust                    bool\n",
       "Weather_Condition_Widespread Dust / Windy            bool\n",
       "Weather_Condition_Wintry Mix                         bool\n",
       "Weather_Condition_Wintry Mix / Windy                 bool\n",
       "Zipcode_Group_894                                    bool\n",
       "Zipcode_Group_900                                    bool\n",
       "Zipcode_Group_902                                    bool\n",
       "Zipcode_Group_903                                    bool\n",
       "Zipcode_Group_904                                    bool\n",
       "Zipcode_Group_905                                    bool\n",
       "Zipcode_Group_906                                    bool\n",
       "Zipcode_Group_907                                    bool\n",
       "Zipcode_Group_908                                    bool\n",
       "Zipcode_Group_910                                    bool\n",
       "Zipcode_Group_911                                    bool\n",
       "Zipcode_Group_912                                    bool\n",
       "Zipcode_Group_913                                    bool\n",
       "Zipcode_Group_914                                    bool\n",
       "Zipcode_Group_915                                    bool\n",
       "Zipcode_Group_916                                    bool\n",
       "Zipcode_Group_917                                    bool\n",
       "Zipcode_Group_918                                    bool\n",
       "Zipcode_Group_919                                    bool\n",
       "Zipcode_Group_920                                    bool\n",
       "Zipcode_Group_921                                    bool\n",
       "Zipcode_Group_922                                    bool\n",
       "Zipcode_Group_923                                    bool\n",
       "Zipcode_Group_924                                    bool\n",
       "Zipcode_Group_925                                    bool\n",
       "Zipcode_Group_926                                    bool\n",
       "Zipcode_Group_927                                    bool\n",
       "Zipcode_Group_928                                    bool\n",
       "Zipcode_Group_930                                    bool\n",
       "Zipcode_Group_931                                    bool\n",
       "Zipcode_Group_932                                    bool\n",
       "Zipcode_Group_933                                    bool\n",
       "Zipcode_Group_934                                    bool\n",
       "Zipcode_Group_935                                    bool\n",
       "Zipcode_Group_936                                    bool\n",
       "Zipcode_Group_937                                    bool\n",
       "Zipcode_Group_939                                    bool\n",
       "Zipcode_Group_940                                    bool\n",
       "Zipcode_Group_941                                    bool\n",
       "Zipcode_Group_943                                    bool\n",
       "Zipcode_Group_944                                    bool\n",
       "Zipcode_Group_945                                    bool\n",
       "Zipcode_Group_946                                    bool\n",
       "Zipcode_Group_947                                    bool\n",
       "Zipcode_Group_948                                    bool\n",
       "Zipcode_Group_949                                    bool\n",
       "Zipcode_Group_950                                    bool\n",
       "Zipcode_Group_951                                    bool\n",
       "Zipcode_Group_952                                    bool\n",
       "Zipcode_Group_953                                    bool\n",
       "Zipcode_Group_954                                    bool\n",
       "Zipcode_Group_955                                    bool\n",
       "Zipcode_Group_956                                    bool\n",
       "Zipcode_Group_957                                    bool\n",
       "Zipcode_Group_958                                    bool\n",
       "Zipcode_Group_959                                    bool\n",
       "Zipcode_Group_960                                    bool\n",
       "Zipcode_Group_961                                    bool\n",
       "day_of_week                                       float64\n",
       "Month                                             float64\n",
       "Is_Holiday                                          int64\n",
       "Is_Rush_Hour                                        int64\n",
       "dtype: object"
      ]
     },
     "execution_count": 75,
     "metadata": {},
     "output_type": "execute_result"
    }
   ],
   "source": [
    "final_df.dtypes\n"
   ]
  },
  {
   "cell_type": "code",
   "execution_count": null,
   "id": "4b01af91-d857-4e3e-93b8-4c62b2e35dc5",
   "metadata": {},
   "outputs": [],
   "source": []
  }
 ],
 "metadata": {
  "environment": {
   "kernel": "python3",
   "name": "tf2-gpu.2-17.m128",
   "type": "gcloud",
   "uri": "us-docker.pkg.dev/deeplearning-platform-release/gcr.io/tf2-gpu.2-17:m128"
  },
  "kernelspec": {
   "display_name": "Python 3",
   "language": "python",
   "name": "python3"
  },
  "language_info": {
   "codemirror_mode": {
    "name": "ipython",
    "version": 3
   },
   "file_extension": ".py",
   "mimetype": "text/x-python",
   "name": "python",
   "nbconvert_exporter": "python",
   "pygments_lexer": "ipython3",
   "version": "3.10.16"
  }
 },
 "nbformat": 4,
 "nbformat_minor": 5
}
